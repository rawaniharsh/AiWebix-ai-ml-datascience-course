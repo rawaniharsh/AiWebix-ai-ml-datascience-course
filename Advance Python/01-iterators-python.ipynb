{
 "cells": [
  {
   "cell_type": "markdown",
   "id": "5a7b5693",
   "metadata": {},
   "source": [
    "# 🔁 Lesson: Iterators in Python\n",
    "\n",
    "## 🎯 Objective:\n",
    "Understand how iteration works under the hood using iterators, and how to create custom iterable objects in Python.\n",
    "This lesson is written in very simple language for students new to programming.\n",
    "\n",
    "---\n",
    "\n",
    "## 📌 Topics to Cover:\n",
    "1. What is an Iterator?\n",
    "2. Difference Between Iterable and Iterator\n",
    "3. The `iter()` and `next()` Functions\n",
    "4. What is StopIteration?\n",
    "5. Creating Your Own Iterator Class\n",
    "6. Real-Life Examples (Simple + Practical)\n",
    "7. Common Mistakes\n",
    "8. Best Practices\n",
    "\n",
    "---\n",
    "\n",
    "## 🔸 What is an Iterator?\n",
    "An **iterator** is like a remote control that helps you go through items in a list, one by one.\n",
    "You press \"next\" and get the next item.\n",
    "\n",
    "Imagine a playlist on your phone. You press \"next song\" — that's what an iterator does in programming.\n",
    "\n",
    "---\n",
    "\n",
    "## 🔸 Iterable vs Iterator\n",
    "\n",
    "| Term       | Meaning                                                                 |\n",
    "|------------|-------------------------------------------------------------------------|\n",
    "| Iterable   | Anything you can loop through (like a list or a string)                |\n",
    "| Iterator   | The tool that goes through each item one at a time using `next()`      |\n",
    "\n",
    "- An **Iterable** is like a book.\n",
    "- An **Iterator** is like a person reading the book page-by-page.\n",
    "\n",
    "```python\n",
    "my_list = [\"apple\", \"banana\", \"mango\"]\n",
    "my_iterator = iter(my_list)\n",
    "print(next(my_iterator))  # apple\n",
    "print(next(my_iterator))  # banana"
   ]
  },
  {
   "cell_type": "markdown",
   "id": "5b70bdc8",
   "metadata": {},
   "source": [
    "### 🔸 The iter() and next() Functions\n",
    "\n",
    "🧠 What are iter() and next()?\n",
    "\n",
    "iter() is a built-in Python function that takes an iterable (like a list or string) and returns an iterator object.\n",
    "\n",
    "next() is used to get the next item from that iterator. Once there are no more items, it raises a StopIteration error.\n",
    "\n",
    "✅ Example:"
   ]
  },
  {
   "cell_type": "code",
   "execution_count": null,
   "id": "d6d051b8",
   "metadata": {},
   "outputs": [],
   "source": [
    "# Example of using iter() and next()\n",
    "colors = [\"red\", \"green\", \"blue\"]  # A list (iterable)\n",
    "it = iter(colors)  # Convert the list to an iterator\n",
    "\n",
    "print(next(it))  # red\n",
    "print(next(it))  # green\n",
    "print(next(it))  # blue\n",
    "\n",
    "# After this, if you call next(it) again, Python will raise a StopIteration error because there are no more items."
   ]
  },
  {
   "cell_type": "markdown",
   "id": "846b4da1",
   "metadata": {},
   "source": [
    "### 🔸 What is StopIteration?\n",
    "\n",
    "❗ Error Explanation:\n",
    "\n",
    "StopIteration is a special error that is raised when we try to go beyond the last item of an iterator. This is an error that Python shows when there is nothing left to read in the iterator.\n",
    "It's like trying to flip a page when the book is finished.\n",
    "\n",
    "It tells us that the iteration is finished.\n",
    "\n",
    "🔁 Example:"
   ]
  },
  {
   "cell_type": "code",
   "execution_count": null,
   "id": "c40b0618",
   "metadata": {},
   "outputs": [],
   "source": [
    "# Example of StopIteration Error\n",
    "nums = [1, 2]\n",
    "it = iter(nums)\n",
    "\n",
    "print(next(it))  # 1\n",
    "print(next(it))  # 2\n",
    "print(next(it))  # ❌ This will raise StopIteration because no items left"
   ]
  },
  {
   "cell_type": "markdown",
   "id": "0e9cb82e",
   "metadata": {},
   "source": [
    "### ✅ Handling it properly:\n",
    "\n",
    "We can avoid the program crash by using a try-except block."
   ]
  },
  {
   "cell_type": "code",
   "execution_count": null,
   "id": "619320ae",
   "metadata": {},
   "outputs": [],
   "source": [
    "# Proper way to handle StopIteration using try-except\n",
    "it = iter([10, 20])\n",
    "while True:\n",
    "    try:\n",
    "        print(next(it))\n",
    "    except StopIteration:\n",
    "        break  # Ends the loop when no items are left"
   ]
  },
  {
   "cell_type": "markdown",
   "id": "7c01920d",
   "metadata": {},
   "source": [
    "This is very useful when we are not sure how many items are in the iterator, like reading a large file line-by-line."
   ]
  },
  {
   "cell_type": "code",
   "execution_count": null,
   "id": "b1310df8",
   "metadata": {},
   "outputs": [],
   "source": [
    "# Example of using iter() and next()\n",
    "colors = [\"red\", \"green\", \"blue\"]\n",
    "it = iter(colors)  # Converting the list to an iterator\n",
    "\n",
    "print(next(it))  # red\n",
    "print(next(it))  # green\n",
    "print(next(it))  # blue"
   ]
  },
  {
   "cell_type": "markdown",
   "id": "ea5bcdb5",
   "metadata": {},
   "source": [
    "After this, if you call next(it) again, you will get an error called StopIteration."
   ]
  },
  {
   "cell_type": "markdown",
   "id": "75165869",
   "metadata": {},
   "source": [
    "### 🔸 Creating Your Own Iterator\n",
    "\n",
    "Let’s create a machine that counts from 1 to a number we give."
   ]
  },
  {
   "cell_type": "code",
   "execution_count": 1,
   "id": "18b39afa",
   "metadata": {},
   "outputs": [
    {
     "name": "stdout",
     "output_type": "stream",
     "text": [
      "1\n",
      "2\n",
      "3\n"
     ]
    }
   ],
   "source": [
    "class CountUpTo:\n",
    "    def __init__(self, max):\n",
    "        self.max = max\n",
    "        self.num = 1\n",
    "\n",
    "    def __iter__(self):\n",
    "        return self\n",
    "\n",
    "    def __next__(self):\n",
    "        if self.num > self.max:\n",
    "            raise StopIteration\n",
    "        current = self.num\n",
    "        self.num += 1\n",
    "        return current\n",
    "\n",
    "counter = CountUpTo(3)\n",
    "for n in counter:\n",
    "    print(n)"
   ]
  }
 ],
 "metadata": {
  "kernelspec": {
   "display_name": "Python 3",
   "language": "python",
   "name": "python3"
  },
  "language_info": {
   "codemirror_mode": {
    "name": "ipython",
    "version": 3
   },
   "file_extension": ".py",
   "mimetype": "text/x-python",
   "name": "python",
   "nbconvert_exporter": "python",
   "pygments_lexer": "ipython3",
   "version": "3.12.0"
  }
 },
 "nbformat": 4,
 "nbformat_minor": 5
}
