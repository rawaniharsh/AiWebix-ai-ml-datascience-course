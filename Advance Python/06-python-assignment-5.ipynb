{
 "cells": [
  {
   "cell_type": "markdown",
   "id": "4e3b9914",
   "metadata": {},
   "source": [
    "# 📄 Student Project Assignments\n",
    "\n",
    "These assignments are designed to help you improve and expand the Student Result Management System.\n",
    "\n",
    "---\n",
    "\n",
    "## 📝 Assignment 1: 🔢 Sort Students by Grade\n",
    "\n",
    "### 🎯 Objective:\n",
    "Add a new feature that allows users to sort and display students based on their grades — from A+ to F.\n",
    "\n",
    "### ✅ Requirements:\n",
    "- Create a menu option: `\"Sort Students by Grade\"`\n",
    "- Use the `get_grade()` method to compare grades\n",
    "- Display students in order: A+, A, B, C, F\n",
    "\n",
    "### 💡 Hints:\n",
    "- Use a dictionary or function to assign numeric ranks to grades:\n",
    "  ```python\n",
    "  grade_rank = {\"A+\": 5, \"A\": 4, \"B\": 3, \"C\": 2, \"F\": 1}"
   ]
  }
 ],
 "metadata": {
  "language_info": {
   "name": "python"
  }
 },
 "nbformat": 4,
 "nbformat_minor": 5
}
