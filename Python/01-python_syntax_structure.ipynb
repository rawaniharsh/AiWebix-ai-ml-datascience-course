{
 "cells": [
  {
   "cell_type": "markdown",
   "id": "1d1be702",
   "metadata": {},
   "source": [
    "# Python Syntax & Structure"
   ]
  },
  {
   "cell_type": "code",
   "execution_count": 6,
   "id": "6671c00b",
   "metadata": {},
   "outputs": [
    {
     "name": "stdout",
     "output_type": "stream",
     "text": [
      "Program finished\n"
     ]
    }
   ],
   "source": [
    "# 🔹 Indentation\n",
    "# In Python, indentation means leaving space at the beginning of a line.\n",
    "# It shows which statements belong together in a block (like inside if, loops, functions).\n",
    "# No need for curly brackets like C/C++/Java.\n",
    "\n",
    "age = 18\n",
    "\n",
    "if age < 18:\n",
    "    print(\"you are an adult\")\n",
    "    print (\"you are driving\")\n",
    "\n",
    "print(\"Program finished\")\n",
    "\n",
    "# commonn indentation rules in python\n",
    "\n",
    "## use 4 spaces per indentation level\n",
    "# never mix spaces and tabs\n",
    "# all lines in the same block must be indented at the same level"
   ]
  },
  {
   "cell_type": "code",
   "execution_count": 8,
   "id": "ff9d65ee",
   "metadata": {},
   "outputs": [
    {
     "name": "stdout",
     "output_type": "stream",
     "text": [
      "Welcome to this course\n",
      "30\n"
     ]
    }
   ],
   "source": [
    "# 🔹 Statements\n",
    "# A statement is a single instruction in Python.\n",
    "# Each line can be considered a statement if it performs an action.\n",
    "\n",
    "print(\"Welcome to this course\") #calls the print() function\n",
    "\n",
    "import math \n",
    "\n",
    "x=10; y=20; print(x+y); "
   ]
  },
  {
   "cell_type": "code",
   "execution_count": 9,
   "id": "bb811b65",
   "metadata": {},
   "outputs": [
    {
     "name": "stdout",
     "output_type": "stream",
     "text": [
      "hello\n"
     ]
    }
   ],
   "source": [
    "# 🔹 Comments\n",
    "# Comments help us understand the code. Python ignores them during execution.\n",
    "# Use '#' for single-line comments.\n",
    "# Use triple quotes for multi-line comments or documentation.\n",
    "\n",
    "# single line comment\n",
    "x = 10 # we are creating one variable x and assigning value 10\n",
    "\n",
    "#multi line comment\n",
    "\n",
    "def greet():\n",
    "    \"\"\"This function prints a greeting message \n",
    "    whenever we call this function.\n",
    "    \"\"\"\n",
    "    print(\"hello\")\n",
    "\n",
    "greet()"
   ]
  },
  {
   "cell_type": "code",
   "execution_count": 12,
   "id": "4fdf9dbf",
   "metadata": {},
   "outputs": [
    {
     "name": "stdout",
     "output_type": "stream",
     "text": [
      "Harsh\n",
      "AiWebix\n",
      "ML Program\n"
     ]
    }
   ],
   "source": [
    "# 🔹 Case Sensitivity\n",
    "# Python treats uppercase and lowercase letters as different.\n",
    "# So, 'name' and 'Name' are two separate variables.\n",
    "\n",
    "name = \"Harsh\"\n",
    "Name = \"AiWebix\"\n",
    "NAME = \"ML Program\"\n",
    "\n",
    "print(name)\n",
    "print(Name)\n",
    "print(NAME)\n"
   ]
  },
  {
   "cell_type": "code",
   "execution_count": 16,
   "id": "16162cf7",
   "metadata": {},
   "outputs": [],
   "source": [
    "# 🔹 Keywords\n",
    "# Keywords are reserved words in Python. You can't use them as variable names.\n",
    "# Example: if, else, for, while, def, class etc.\n",
    "# Trying to use them will give an error.\n",
    "# for = 5  # ❌ This will cause an error because 'for' is a keyword"
   ]
  },
  {
   "cell_type": "code",
   "execution_count": null,
   "id": "b0f187e7",
   "metadata": {},
   "outputs": [],
   "source": [
    "# 🔹 Strings\n",
    "# Strings are used to store text. Can be defined using single, double, or triple quotes."
   ]
  },
  {
   "cell_type": "code",
   "execution_count": null,
   "id": "b9da1a3d",
   "metadata": {},
   "outputs": [],
   "source": [
    "# 🔹 Code Structure\n",
    "# A typical Python script has imports at the top, followed by function definitions and logic."
   ]
  }
 ],
 "metadata": {
  "kernelspec": {
   "display_name": "Python 3",
   "language": "python",
   "name": "python3"
  },
  "language_info": {
   "codemirror_mode": {
    "name": "ipython",
    "version": 3
   },
   "file_extension": ".py",
   "mimetype": "text/x-python",
   "name": "python",
   "nbconvert_exporter": "python",
   "pygments_lexer": "ipython3",
   "version": "3.12.0"
  }
 },
 "nbformat": 4,
 "nbformat_minor": 5
}
