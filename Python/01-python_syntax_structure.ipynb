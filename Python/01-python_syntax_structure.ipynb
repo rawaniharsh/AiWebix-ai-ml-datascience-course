{
 "cells": [
  {
   "cell_type": "markdown",
   "id": "1d1be702",
   "metadata": {},
   "source": [
    "# Python Syntax & Structure"
   ]
  },
  {
   "cell_type": "code",
   "execution_count": null,
   "id": "6671c00b",
   "metadata": {},
   "outputs": [],
   "source": [
    "# 🔹 Indentation\n",
    "# In Python, indentation means leaving space at the beginning of a line.\n",
    "# It shows which statements belong together in a block (like inside if, loops, functions).\n",
    "# No need for curly brackets like C/C++/Java.\n",
    "if True:\n",
    "    print(\"This line is indented and runs inside the if block.\")\n",
    "print(\"This line is outside the if block.\")"
   ]
  },
  {
   "cell_type": "code",
   "execution_count": null,
   "id": "ff9d65ee",
   "metadata": {},
   "outputs": [],
   "source": [
    "# 🔹 Statements\n",
    "# A statement is a single instruction in Python.\n",
    "# Each line can be considered a statement if it performs an action.\n",
    "x = 10      # Assignment statement\n",
    "y = 20      # Another assignment\n",
    "print(x + y)  # Print statement to show output"
   ]
  },
  {
   "cell_type": "code",
   "execution_count": null,
   "id": "bb811b65",
   "metadata": {},
   "outputs": [],
   "source": [
    "# 🔹 Comments\n",
    "# Comments help us understand the code. Python ignores them during execution.\n",
    "# Use '#' for single-line comments.\n",
    "# Use triple quotes for multi-line comments or documentation.\n",
    "# Example:\n",
    "\"\"\"\n",
    "This is a multi-line comment.\n",
    "Used to explain a block of code in detail.\n",
    "Especially useful for beginners.\n",
    "\"\"\""
   ]
  },
  {
   "cell_type": "code",
   "execution_count": null,
   "id": "4fdf9dbf",
   "metadata": {},
   "outputs": [],
   "source": [
    "# 🔹 Case Sensitivity\n",
    "# Python treats uppercase and lowercase letters as different.\n",
    "# So, 'name' and 'Name' are two separate variables.\n",
    "name = \"Harsh\"\n",
    "Name = \"Kumar\"\n",
    "print(name)  # Outputs: Harsh\n",
    "print(Name)  # Outputs: Kumar"
   ]
  },
  {
   "cell_type": "code",
   "execution_count": null,
   "id": "0ac07492",
   "metadata": {},
   "outputs": [],
   "source": [
    "# 🔹 Variables and Data Types\n",
    "# Variables are like containers to store data.\n",
    "# You don't need to mention data types explicitly in Python.\n",
    "a = 5            # Integer (int)\n",
    "b = 3.14         # Floating point number (float)\n",
    "c = \"Hello\"      # String (str)\n",
    "d = True         # Boolean (bool)\n",
    "print(type(a), type(b), type(c), type(d))"
   ]
  },
  {
   "cell_type": "code",
   "execution_count": null,
   "id": "16162cf7",
   "metadata": {},
   "outputs": [],
   "source": [
    "# 🔹 Keywords\n",
    "# Keywords are reserved words in Python. You can't use them as variable names.\n",
    "# Example: if, else, for, while, def, class etc.\n",
    "# Trying to use them will give an error.\n",
    "# for = 5  # ❌ This will cause an error because 'for' is a keyword"
   ]
  },
  {
   "cell_type": "code",
   "execution_count": null,
   "id": "b0f187e7",
   "metadata": {},
   "outputs": [],
   "source": [
    "# 🔹 Strings\n",
    "# Strings are used to store text. Can be defined using single, double, or triple quotes.\n",
    "s1 = 'Hello'\n",
    "s2 = \"World\"\n",
    "s3 = '''This is a multi-line string'''\n",
    "print(s1, s2, s3)"
   ]
  },
  {
   "cell_type": "code",
   "execution_count": null,
   "id": "b9da1a3d",
   "metadata": {},
   "outputs": [],
   "source": [
    "# 🔹 Code Structure\n",
    "# A typical Python script has imports at the top, followed by function definitions and logic.\n",
    "import math\n",
    "\n",
    "def square(x):\n",
    "    return x * x\n",
    "\n",
    "print(square(5))"
   ]
  }
 ],
 "metadata": {
  "language_info": {
   "name": "python"
  }
 },
 "nbformat": 4,
 "nbformat_minor": 5
}
