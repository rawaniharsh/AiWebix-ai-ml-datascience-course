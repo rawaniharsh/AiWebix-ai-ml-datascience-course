{
 "cells": [
  {
   "cell_type": "markdown",
   "id": "92934d8e",
   "metadata": {},
   "source": [
    "## 🔹 What is print() in Python?\n",
    "##### print() is a built-in function in Python that sends output to the screen (also called standard output). It’s the very first thing beginners learn, and you’ll continue to use it even in large AI and Data Science projects."
   ]
  },
  {
   "cell_type": "code",
   "execution_count": null,
   "id": "25bf068b",
   "metadata": {},
   "outputs": [
    {
     "name": "stdout",
     "output_type": "stream",
     "text": [
      "Hello World!\n"
     ]
    }
   ],
   "source": [
    "print(\"Hello World!\")\n",
    "\n",
    "# you are asking python to display message\n",
    "# print() is like your mouth - it speaks whatever is inside it"
   ]
  },
  {
   "cell_type": "code",
   "execution_count": null,
   "id": "c6afc8af",
   "metadata": {},
   "outputs": [
    {
     "name": "stdout",
     "output_type": "stream",
     "text": [
      "Student Name: Harsh\n",
      "Score: 95\n"
     ]
    }
   ],
   "source": [
    "# printing variables\n",
    "\n",
    "name = \"Harsh\"\n",
    "score = 95\n",
    "\n",
    "print(\"Student Name:\", name)\n",
    "print(\"Score:\", score)"
   ]
  },
  {
   "cell_type": "code",
   "execution_count": 9,
   "id": "12627d21",
   "metadata": {},
   "outputs": [
    {
     "name": "stdout",
     "output_type": "stream",
     "text": [
      "Harsh-95-27\n",
      "12-05-1997\n"
     ]
    }
   ],
   "source": [
    "# using sep parameter (separator)\n",
    "\n",
    "print(\"Harsh\", \"95\", \"27\", sep=\"-\")\n",
    "\n",
    "# sep controls what comes between each value\n",
    "\n",
    "print(\"12\", \"05\", \"1997\", sep=\"-\")"
   ]
  },
  {
   "cell_type": "code",
   "execution_count": 15,
   "id": "c3b5cca7",
   "metadata": {},
   "outputs": [
    {
     "name": "stdout",
     "output_type": "stream",
     "text": [
      "Loading.....Trying again....Completed!\n"
     ]
    }
   ],
   "source": [
    "# end parameter\n",
    "# end controls what gets printed after the line\n",
    "# default is \\n, but you can change it a space or nothing \n",
    "\n",
    "print(\"Loading.....\", end=\"Trying again....\")\n",
    "print(\"Completed!\")"
   ]
  },
  {
   "cell_type": "code",
   "execution_count": null,
   "id": "394faa13",
   "metadata": {},
   "outputs": [
    {
     "name": "stdout",
     "output_type": "stream",
     "text": [
      "Total: 99\n"
     ]
    }
   ],
   "source": [
    "# print numbers and expressions\n",
    "\n",
    "print(\"Total:\", 10 + 89)\n",
    "\n",
    "# usefull for billing apps, scoreboards and mathematical logs"
   ]
  },
  {
   "cell_type": "code",
   "execution_count": 20,
   "id": "d2773941",
   "metadata": {},
   "outputs": [
    {
     "name": "stdout",
     "output_type": "stream",
     "text": [
      "I am Harsh.\n",
      "I am living in Bangalore\n",
      "He said: \"Python is fun!\"\n"
     ]
    }
   ],
   "source": [
    "# escape sequences (\\)\n",
    "\n",
    "# \\n - new lines\n",
    "# \\t - tab space\n",
    "# \\\\ - Backslash\n",
    "# \\\" - Double quote\n",
    "\n",
    "print(\"I am Harsh.\\nI am living in Bangalore\")\n",
    "\n",
    "print(\"He said: \\\"Python is fun!\\\"\")"
   ]
  },
  {
   "cell_type": "code",
   "execution_count": 21,
   "id": "93373ed4",
   "metadata": {},
   "outputs": [
    {
     "name": "stdout",
     "output_type": "stream",
     "text": [
      "Model accuracy: 93.0 %\n"
     ]
    }
   ],
   "source": [
    "# ai and ds\n",
    "\n",
    "accuracy = 0.93\n",
    "\n",
    "print(\"Model accuracy:\", accuracy*100, \"%\")"
   ]
  },
  {
   "cell_type": "code",
   "execution_count": 23,
   "id": "9920b956",
   "metadata": {},
   "outputs": [
    {
     "name": "stdout",
     "output_type": "stream",
     "text": [
      "Name\tAge\tCity\n",
      "Aman\t21\tDelhi\n",
      "Rahul\t23\tBangalore\n"
     ]
    }
   ],
   "source": [
    "# Print table format\n",
    "\n",
    "print(\"Name\\tAge\\tCity\")\n",
    "print(\"Aman\\t21\\tDelhi\")\n",
    "print(\"Rahul\\t23\\tBangalore\")"
   ]
  },
  {
   "cell_type": "code",
   "execution_count": 24,
   "id": "565b9827",
   "metadata": {},
   "outputs": [
    {
     "name": "stdout",
     "output_type": "stream",
     "text": [
      "Hello harsh, you score 92 marks.\n"
     ]
    }
   ],
   "source": [
    "# priting with f-strings (formatted strings)\n",
    "\n",
    "name = \"harsh\"\n",
    "marks = 92\n",
    "\n",
    "print(f\"Hello {name}, you score {marks} marks.\")"
   ]
  },
  {
   "cell_type": "markdown",
   "id": "95846844",
   "metadata": {},
   "source": [
    "# mini assignment for students\n",
    "# use print() to display the below format\n",
    "\n",
    "Welcome to AiWebix\n",
    "-------------------\n",
    "Student: Riya Sharma\n",
    "Course: AI & ML\n",
    "Score: 92%"
   ]
  }
 ],
 "metadata": {
  "kernelspec": {
   "display_name": "Python 3",
   "language": "python",
   "name": "python3"
  },
  "language_info": {
   "codemirror_mode": {
    "name": "ipython",
    "version": 3
   },
   "file_extension": ".py",
   "mimetype": "text/x-python",
   "name": "python",
   "nbconvert_exporter": "python",
   "pygments_lexer": "ipython3",
   "version": "3.13.5"
  }
 },
 "nbformat": 4,
 "nbformat_minor": 5
}
