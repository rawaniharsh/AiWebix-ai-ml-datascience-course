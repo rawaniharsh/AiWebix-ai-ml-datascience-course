{
 "cells": [
  {
   "cell_type": "markdown",
   "id": "767570a7",
   "metadata": {},
   "source": [
    "# Variables & Data Types"
   ]
  },
  {
   "cell_type": "code",
   "execution_count": null,
   "id": "0f29fe42",
   "metadata": {},
   "outputs": [],
   "source": [
    "# 🔹 What are Variables?\n",
    "# Variables are used to store data in Python.\n",
    "# You don't need to declare the data type; Python automatically understands it.\n",
    "name = \"Harsh\"  # String\n",
    "age = 25        # Integer\n",
    "salary = 55000.75  # Float\n",
    "print(name, age, salary)"
   ]
  },
  {
   "cell_type": "code",
   "execution_count": null,
   "id": "1b63f90d",
   "metadata": {},
   "outputs": [],
   "source": [
    "# 🔹 Naming Rules & Conventions\n",
    "# ✅ Can include letters, digits, and underscores\n",
    "# ✅ Must start with a letter or underscore\n",
    "# ❌ Cannot start with a number or use special symbols\n",
    "# ❌ Cannot use Python keywords\n",
    "first_name = \"Rahul\"\n",
    "_total = 100\n",
    "# 2ndValue = 50  # ❌ Invalid\n",
    "# for = 10       # ❌ Invalid (keyword)\n",
    "print(first_name, _total)"
   ]
  },
  {
   "cell_type": "markdown",
   "id": "96f1233d",
   "metadata": {},
   "source": [
    "### 🔸 Common Python Data Types\n",
    "\n",
    "| Data Type  | Example           | Description                          |\n",
    "|------------|-------------------|--------------------------------------|\n",
    "| int        | 5, -10, 100       | Whole numbers                        |\n",
    "| float      | 3.14, -0.5        | Decimal numbers                      |\n",
    "| str        | \"Hello\", 'A'      | Text                                 |\n",
    "| bool       | True, False       | Logical values                       |\n",
    "| list       | [1, 2, 3]         | Ordered group of items               |\n",
    "| tuple      | (4, 5)            | Immutable group of items             |\n",
    "| dict       | {\"a\": 1}          | Key-value pairs                      |\n",
    "| set        | {1, 2, 3}         | Unordered collection of unique items |\n",
    "| NoneType   | None              | Represents no value                  |"
   ]
  },
  {
   "cell_type": "code",
   "execution_count": null,
   "id": "de48ca27",
   "metadata": {},
   "outputs": [],
   "source": [
    "# 🔹 Taking User Input\n",
    "\n",
    "# The input() function always takes input as a string\n",
    "name = input(\"Enter your name: \")\n",
    "age = input(\"Enter your age: \")\n",
    "\n",
    "# Convert age to integer using int()\n",
    "age = int(age)\n",
    "\n",
    "print(\"Hello\", name)\n",
    "print(\"Your age is\", age)"
   ]
  },
  {
   "cell_type": "code",
   "execution_count": null,
   "id": "6f7729f0",
   "metadata": {},
   "outputs": [],
   "source": [
    "# 🔹 Python Data Types Overview\n",
    "# Common built-in types:\n",
    "integer_num = 10         # int\n",
    "float_num = 10.5         # float\n",
    "string_text = \"Python\"   # str\n",
    "boolean_val = True       # bool\n",
    "none_val = None          # NoneType\n",
    "print(type(integer_num), type(float_num), type(string_text), type(boolean_val), type(none_val))"
   ]
  },
  {
   "cell_type": "code",
   "execution_count": null,
   "id": "e31841e8",
   "metadata": {},
   "outputs": [],
   "source": [
    "# 🔹 Type Casting (Type Conversion)\n",
    "# You can convert one data type to another using casting functions\n",
    "x = \"123\"\n",
    "y = int(x)  # String to int\n",
    "z = float(x)  # String to float\n",
    "print(x, y, z)\n",
    "print(type(x), type(y), type(z))"
   ]
  },
  {
   "cell_type": "code",
   "execution_count": null,
   "id": "a90cffbf",
   "metadata": {},
   "outputs": [],
   "source": [
    "# 🔹 Dynamic Typing in Python\n",
    "# You can change the type of a variable any time\n",
    "item = 10       # int\n",
    "print(item, type(item))\n",
    "item = \"Ten\"    # str\n",
    "print(item, type(item))"
   ]
  },
  {
   "cell_type": "code",
   "execution_count": null,
   "id": "ea009eb4",
   "metadata": {},
   "outputs": [],
   "source": [
    "# 🔹 type() and id() Functions\n",
    "# type() shows the data type\n",
    "# id() gives the memory location (unique ID of the object)\n",
    "a = 50\n",
    "print(type(a))\n",
    "print(id(a))"
   ]
  },
  {
   "cell_type": "code",
   "execution_count": null,
   "id": "5eb5cadd",
   "metadata": {},
   "outputs": [],
   "source": [
    "# 🔹 Mutable vs Immutable Types\n",
    "# Mutable = Can be changed after creation (like list, dict)\n",
    "# Immutable = Cannot be changed (like int, float, str, tuple)\n",
    "\n",
    "# Example of Immutable:\n",
    "x = 5\n",
    "print(id(x))\n",
    "x = x + 1\n",
    "print(id(x))  # ID changes, as a new object is created\n",
    "\n",
    "# Example of Mutable:\n",
    "my_list = [1, 2, 3]\n",
    "print(id(my_list))\n",
    "my_list.append(4)\n",
    "print(id(my_list))  # ID remains same"
   ]
  }
 ],
 "metadata": {
  "language_info": {
   "name": "python"
  }
 },
 "nbformat": 4,
 "nbformat_minor": 5
}
