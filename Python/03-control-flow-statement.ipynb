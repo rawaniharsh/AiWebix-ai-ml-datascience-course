{
 "cells": [
  {
   "cell_type": "markdown",
   "id": "c8366dfa",
   "metadata": {},
   "source": [
    "# 🧩 Lesson 4: Control Flow in Python\n",
    "This notebook covers decision-making and loops with real-world examples."
   ]
  },
  {
   "cell_type": "markdown",
   "id": "195e4e51",
   "metadata": {},
   "source": [
    "### 🔁 Python Control Flow Keywords\n",
    "\n",
    "| Keyword   | Description |\n",
    "|-----------|-------------|\n",
    "| `if`      | Executes a block if a condition is True |\n",
    "| `elif`    | Adds another condition to check if previous `if` is False |\n",
    "| `else`    | Executes a block if all conditions are False |\n",
    "| `for`     | Loops through a sequence (like list or range) |\n",
    "| `while`   | Repeats a block while a condition is True |\n",
    "| `break`   | Exits the current loop prematurely |\n",
    "| `continue`| Skips the rest of current iteration and jumps to next |\n",
    "| `pass`    | Does nothing — acts as a placeholder |\n",
    "| `range()` | Built-in function used for looping a specific number of times |"
   ]
  },
  {
   "cell_type": "code",
   "execution_count": null,
   "id": "729d52bd",
   "metadata": {},
   "outputs": [],
   "source": [
    "# 🔸 Conditional Statements\n",
    "# Using if, elif, and else to make decisions\n",
    "is_raining = True  # Suppose it's raining outside\n",
    "\n",
    "if is_raining:\n",
    "    print(\"Take an umbrella 🌂\")\n",
    "elif not is_raining:\n",
    "    print(\"No umbrella needed 😎\")\n",
    "else:\n",
    "    print(\"Weather unknown, stay alert!\")"
   ]
  },
  {
   "cell_type": "markdown",
   "id": "1f67370d",
   "metadata": {},
   "source": [
    "### 🔧 Python Operators\n",
    "\n",
    "| Operator Type       | Operators                  | Description Example                          |\n",
    "|---------------------|----------------------------|-----------------------------------------------|\n",
    "| Arithmetic          | `+`, `-`, `*`, `/`, `//`, `%`, `**` | Used to perform mathematical operations     |\n",
    "| Assignment          | `=`, `+=`, `-=`, `*=`, `/=` | Assign values to variables                   |\n",
    "| Comparison          | `==`, `!=`, `>`, `<`, `>=`, `<=` | Compare values and return boolean           |\n",
    "| Logical             | `and`, `or`, `not`         | Combine multiple conditions                  |\n",
    "| Membership          | `in`, `not in`             | Check for membership in a collection         |\n",
    "| Identity            | `is`, `is not`             | Compare memory locations                     |"
   ]
  },
  {
   "cell_type": "code",
   "execution_count": null,
   "id": "b67e8084",
   "metadata": {},
   "outputs": [],
   "source": [
    "# 🔸 Comparison Operators\n",
    "# Compare values and return True or False\n",
    "a = 10\n",
    "b = 20\n",
    "print(a < b)   # True\n",
    "print(a == b)  # False\n",
    "print(a != b)  # True"
   ]
  },
  {
   "cell_type": "code",
   "execution_count": null,
   "id": "af7b9537",
   "metadata": {},
   "outputs": [],
   "source": [
    "# 🔸 Logical Operators\n",
    "# Combine multiple conditions using and, or, not\n",
    "age = 20\n",
    "has_id = False\n",
    "\n",
    "if age >= 18 and has_id:\n",
    "    print(\"Can vote 🗳️\")\n",
    "else:\n",
    "    print(\"Can't vote yet or missing ID\")"
   ]
  },
  {
   "cell_type": "code",
   "execution_count": null,
   "id": "5da69702",
   "metadata": {},
   "outputs": [],
   "source": [
    "# 🔸 Nested Conditions\n",
    "# Conditions inside another conditional block\n",
    "marks = 75\n",
    "\n",
    "if marks >= 60:\n",
    "    print(\"Passed\")\n",
    "    if marks >= 85:\n",
    "        print(\"Grade A\")\n",
    "    else:\n",
    "        print(\"Grade B or C\")\n",
    "else:\n",
    "    print(\"Need improvement\")"
   ]
  },
  {
   "cell_type": "code",
   "execution_count": null,
   "id": "02ad1d0c",
   "metadata": {},
   "outputs": [],
   "source": [
    "# 🔁 Using range() in different ways\n",
    "\n",
    "# ✅ Basic range from 0 to 4 (stop is exclusive)\n",
    "for i in range(5):\n",
    "    print(\"i =\", i)\n",
    "\n",
    "# ✅ Specifying start and stop\n",
    "for day in range(1, 8):\n",
    "    print(\"Day of the week:\", day)\n",
    "\n",
    "# ✅ Using step (e.g., even numbers)\n",
    "for num in range(2, 11, 2):\n",
    "    print(\"Even number:\", num)\n",
    "\n",
    "# ✅ Reverse counting using negative step\n",
    "for i in range(5, 0, -1):\n",
    "    print(\"Countdown:\", i)\n",
    "\n",
    "# ✅ Looping through a list with index\n",
    "fruits = [\"apple\", \"banana\", \"cherry\"]\n",
    "for i in range(len(fruits)):\n",
    "    print(f\"Fruit at index {i} is {fruits[i]}\")\n"
   ]
  },
  {
   "cell_type": "code",
   "execution_count": null,
   "id": "c38cfa01",
   "metadata": {},
   "outputs": [],
   "source": [
    "# 🔸 for Loop\n",
    "# Repeat action for a known number of times\n",
    "for i in range(1, 6): # range(start, stop) - stop is exclusive\n",
    "    print(\"Day\", i, \"of practice\")"
   ]
  },
  {
   "cell_type": "code",
   "execution_count": null,
   "id": "7386d283",
   "metadata": {},
   "outputs": [],
   "source": [
    "# 🔸 while Loop\n",
    "# Keep repeating as long as condition is True\n",
    "count = 1\n",
    "while count <= 3:\n",
    "    print(\"Repeat count:\", count)\n",
    "    count += 1\n",
    "print(\"Done with repeating\")"
   ]
  },
  {
   "cell_type": "code",
   "execution_count": null,
   "id": "edbb8715",
   "metadata": {},
   "outputs": [],
   "source": [
    "# 🔸 break, continue, pass\n",
    "# break: exit the loop\n",
    "# continue: skip current iteration\n",
    "# pass: placeholder, does nothing\n",
    "\n",
    "for num in range(1, 6):\n",
    "    if num == 3:\n",
    "        continue  # skip printing 3\n",
    "    if num == 5:\n",
    "        break     # stop loop completely\n",
    "    print(\"Num is:\", num)"
   ]
  },
  {
   "cell_type": "code",
   "execution_count": null,
   "id": "7c5326fe",
   "metadata": {},
   "outputs": [],
   "source": [
    "# 🔸 else with Loops\n",
    "# else block runs only if loop finishes naturally (no break)\n",
    "for num in range(1, 4): \n",
    "    print(\"Count:\", num)\n",
    "else:\n",
    "    print(\"Loop completed without interruption\")"
   ]
  }
 ],
 "metadata": {
  "language_info": {
   "name": "python"
  }
 },
 "nbformat": 4,
 "nbformat_minor": 5
}
