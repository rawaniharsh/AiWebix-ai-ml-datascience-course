{
 "cells": [
  {
   "cell_type": "markdown",
   "id": "f6a7c2af",
   "metadata": {},
   "source": [
    "## Variables in pyhton\n"
   ]
  },
  {
   "cell_type": "code",
   "execution_count": 14,
   "id": "0ac07492",
   "metadata": {},
   "outputs": [
    {
     "name": "stdout",
     "output_type": "stream",
     "text": [
      "harsh\n",
      "24\n",
      "True\n",
      "Harsh\n"
     ]
    }
   ],
   "source": [
    "# 🔹 Variables and Data Types\n",
    "# Variables are like containers to store data.\n",
    "# You don't need to mention data types explicitly in Python.\n",
    "\n",
    "name = \"harsh\"\n",
    "age = 24\n",
    "is_instructor = True\n",
    "\n",
    "# common mistakes we should avoid\n",
    "# we should not use spaces in variables name\n",
    "\n",
    "#my name = \"Harsh\"\n",
    "\n",
    "# variables should not start with numbers\n",
    "\n",
    "#2name = \"harsh\"\n",
    "\n",
    "_Name = \"Harsh\"\n",
    "\n",
    "print(name)\n",
    "print(age)\n",
    "print(is_instructor)\n",
    "print(_Name)\n",
    "\n",
    "# if , for , class \n"
   ]
  },
  {
   "cell_type": "markdown",
   "id": "40698680",
   "metadata": {},
   "source": [
    "| Data Type | Description                            | Example                     |\n",
    "|-----------|----------------------------------------|-----------------------------|\n",
    "| `int`     | Integer numbers                        | `10`, `-3`                  |\n",
    "| `float`   | Decimal numbers                        | `3.14`, `0.0`               |\n",
    "| `str`     | String (text)                          | `\"hello\"`, `'Python'`       |\n",
    "| `bool`    | Boolean values                         | `True`, `False`             |\n",
    "| `list`    | Ordered, changeable collection         | `[1, 2, 3]`, `[\"a\", \"b\"]`   |\n",
    "| `tuple`   | Ordered, unchangeable collection       | `(1, 2, 3)`, `(\"a\", \"b\")`   |\n",
    "| `set`     | Unordered collection of unique items   | `{1, 2, 3}`, `{\"a\", \"b\"}`   |\n",
    "| `dict`    | Key-value pairs                        | `{\"name\": \"John\"}`          |\n",
    "| `NoneType`| Represents no value                    | `None`                      |\n"
   ]
  },
  {
   "cell_type": "code",
   "execution_count": 17,
   "id": "55e7f5ab",
   "metadata": {},
   "outputs": [
    {
     "name": "stdout",
     "output_type": "stream",
     "text": [
      "<class 'str'>\n",
      "<class 'int'>\n",
      "<class 'float'>\n",
      "<class 'bool'>\n",
      "<class 'list'>\n",
      "<class 'dict'>\n"
     ]
    }
   ],
   "source": [
    "name = \"Harsh\" #str\n",
    "age = 25 #number (int)\n",
    "marks = 68.99 #float\n",
    "is_passed = True #bool\n",
    "courses = [\"Btech, BCA\"] # list\n",
    "student = {\"name\": \"Harsh\", \"age\": 25}\n",
    "\n",
    "# we can use type() function to check the data type of any value\n",
    "\n",
    "print(type(name))\n",
    "print(type(age))\n",
    "print(type(marks))\n",
    "print(type(is_passed))\n",
    "print(type(courses))\n",
    "print(type(student))"
   ]
  },
  {
   "cell_type": "markdown",
   "id": "d1f296af",
   "metadata": {},
   "source": [
    "## Type conversion (Casting)"
   ]
  },
  {
   "cell_type": "code",
   "execution_count": null,
   "id": "f016f2a3",
   "metadata": {},
   "outputs": [
    {
     "name": "stdout",
     "output_type": "stream",
     "text": [
      "18\n",
      "<class 'str'>\n",
      "18\n",
      "<class 'int'>\n",
      "Age is: 18\n"
     ]
    }
   ],
   "source": [
    "# type conversion means changing a value from one type to another data type\n",
    "\n",
    "age = \"18\"\n",
    "# 18\n",
    "\n",
    "age_num = int(age)\n",
    "\n",
    "print(age)\n",
    "print(type(age))\n",
    "\n",
    "\n",
    "print(age_num)\n",
    "print(type(age_num))\n",
    "\n",
    "#common mistakes \n",
    "\n",
    "# typing to comnine text and numbers\n",
    "\n",
    "print(\"Age is: \"+ str(18))\n",
    "\n",
    "float(age)\n",
    "bool(age)\n"
   ]
  },
  {
   "cell_type": "markdown",
   "id": "ecbe393f",
   "metadata": {},
   "source": [
    "## What is Boolean in Python"
   ]
  },
  {
   "cell_type": "markdown",
   "id": "7c62ccce",
   "metadata": {},
   "source": [
    "### A boolean is a data type that has only only two possible values - true or false"
   ]
  },
  {
   "cell_type": "code",
   "execution_count": null,
   "id": "28eca244",
   "metadata": {},
   "outputs": [],
   "source": [
    "is_user_delivery_boy = False"
   ]
  },
  {
   "cell_type": "markdown",
   "id": "6b272c47",
   "metadata": {},
   "source": [
    "## Dynamic Typing in Python"
   ]
  },
  {
   "cell_type": "code",
   "execution_count": null,
   "id": "40638c95",
   "metadata": {},
   "outputs": [],
   "source": [
    "#Python is a dynmaically typed language which means you dont have to tell the type of a varaible\n",
    "\n",
    "x = 10 # python see automatically it as an integer\n",
    "x = \"hello\""
   ]
  },
  {
   "cell_type": "markdown",
   "id": "3e4deab1",
   "metadata": {},
   "source": [
    "## id() function"
   ]
  },
  {
   "cell_type": "code",
   "execution_count": 28,
   "id": "0aadc127",
   "metadata": {},
   "outputs": [
    {
     "name": "stdout",
     "output_type": "stream",
     "text": [
      "4385474928\n"
     ]
    }
   ],
   "source": [
    "# each object has a unique identity or address\n",
    "\n",
    "#id() function tells us the indentity number or address of that object in memory\n",
    "\n",
    "permananent_address = \"House no.5, bangalore\"\n",
    "\n",
    "#id(variable_name)\n",
    "\n",
    "print(id(permananent_address))"
   ]
  },
  {
   "cell_type": "markdown",
   "id": "0cfb1193",
   "metadata": {},
   "source": [
    "## Immutable data types and Mutable data types"
   ]
  },
  {
   "cell_type": "code",
   "execution_count": 29,
   "id": "73e39639",
   "metadata": {},
   "outputs": [
    {
     "name": "stdout",
     "output_type": "stream",
     "text": [
      "original list: ['apple', 'banana', 'mango']\n",
      "original id: 4385745216\n",
      "changed list: ['apple', 'banana', 'mango', 'Orange']\n",
      "modified id: 4385745216\n"
     ]
    }
   ],
   "source": [
    "# Mutable (Changeable)\n",
    "# a mutable object is something whose value can be changed after it created without changing its identity or address in memory\n",
    "# examples\n",
    "# list, dict, set, bytearray\n",
    "\n",
    "fruits = [\"apple\", \"banana\", \"mango\"]\n",
    "\n",
    "print(\"original list:\", fruits)\n",
    "print(\"original id:\", id(fruits)) #memory address before change\n",
    "\n",
    "#modify the list fruits\n",
    "fruits.append(\"Orange\")\n",
    "\n",
    "print(\"changed list:\", fruits)\n",
    "print(\"modified id:\", id(fruits)) #memory address after change"
   ]
  },
  {
   "cell_type": "code",
   "execution_count": 1,
   "id": "11b56a7f",
   "metadata": {},
   "outputs": [
    {
     "name": "stdout",
     "output_type": "stream",
     "text": [
      "original variable: Harsh\n",
      "original id: 4845825328\n",
      "modified variable: Akash\n",
      "modified id: 4845822256\n"
     ]
    }
   ],
   "source": [
    "#Immutable Data types(unchangeable)\n",
    "#an immutable object is smething whose value cannot be changed once it is created. if you try to change it, python creates a new object in memory\n",
    "\n",
    "#examples: int, float, str, tuple and bool\n",
    "\n",
    "name = \"Harsh\"\n",
    "print(\"original variable:\", name)\n",
    "print(\"original id:\", id(name)) #memory address before change\n",
    "\n",
    "name = \"Akash\"\n",
    "print(\"modified variable:\", name)\n",
    "print(\"modified id:\", id(name)) #memory address after change"
   ]
  }
 ],
 "metadata": {
  "kernelspec": {
   "display_name": "Python 3",
   "language": "python",
   "name": "python3"
  },
  "language_info": {
   "codemirror_mode": {
    "name": "ipython",
    "version": 3
   },
   "file_extension": ".py",
   "mimetype": "text/x-python",
   "name": "python",
   "nbconvert_exporter": "python",
   "pygments_lexer": "ipython3",
   "version": "3.12.0"
  }
 },
 "nbformat": 4,
 "nbformat_minor": 5
}
