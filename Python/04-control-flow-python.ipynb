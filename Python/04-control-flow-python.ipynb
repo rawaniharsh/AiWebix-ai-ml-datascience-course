{
 "cells": [
  {
   "cell_type": "markdown",
   "id": "c8366dfa",
   "metadata": {},
   "source": [
    "# 🧩 Lesson: Control Flow in Python\n",
    "This notebook covers decision-making and loops with real-world examples."
   ]
  },
  {
   "cell_type": "markdown",
   "id": "195e4e51",
   "metadata": {},
   "source": [
    "### 🔁 Python Control Flow Keywords\n",
    "\n",
    "| Keyword   | Description |\n",
    "|-----------|-------------|\n",
    "| `if`      | Executes a block if a condition is True |\n",
    "| `elif`    | Adds another condition to check if previous `if` is False |\n",
    "| `else`    | Executes a block if all conditions are False |\n",
    "| `for`     | Loops through a sequence (like list or range) |\n",
    "| `while`   | Repeats a block while a condition is True |\n",
    "| `break`   | Exits the current loop prematurely |\n",
    "| `continue`| Skips the rest of current iteration and jumps to next |\n",
    "| `pass`    | Does nothing — acts as a placeholder |\n",
    "| `range()` | Built-in function used for looping a specific number of times |"
   ]
  },
  {
   "cell_type": "code",
   "execution_count": 3,
   "id": "729d52bd",
   "metadata": {},
   "outputs": [
    {
     "name": "stdout",
     "output_type": "stream",
     "text": [
      "Excellent\n"
     ]
    }
   ],
   "source": [
    "# 🔸 Conditional Statements\n",
    "# Using if, elif, and else to make decisions\n",
    "\n",
    "# Example 1: Basic if statement\n",
    "marks = 96\n",
    "\n",
    "if marks >= 90: \n",
    "    print(\"Excellent\")\n",
    "elif marks >= 75:\n",
    "    print(\"Very Good\")\n",
    "elif marks >= 60:\n",
    "    print(\"Good\")\n",
    "else:\n",
    "    print(\"Try again next time\")"
   ]
  },
  {
   "cell_type": "markdown",
   "id": "1f67370d",
   "metadata": {},
   "source": [
    "### 🔧 Python Operators\n",
    "\n",
    "| Operator Type       | Operators                  | Description Example                          |\n",
    "|---------------------|----------------------------|-----------------------------------------------|\n",
    "| Arithmetic          | `+`, `-`, `*`, `/`, `//`, `%`, `**` | Used to perform mathematical operations     |\n",
    "| Assignment          | `=`, `+=`, `-=`, `*=`, `/=` | Assign values to variables                   |\n",
    "| Comparison          | `==`, `!=`, `>`, `<`, `>=`, `<=` | Compare values and return boolean           |\n",
    "| Logical             | `and`, `or`, `not`         | Combine multiple conditions                  |\n",
    "| Membership          | `in`, `not in`             | Check for membership in a collection         |\n",
    "| Identity            | `is`, `is not`             | Compare memory locations                     |"
   ]
  },
  {
   "cell_type": "code",
   "execution_count": null,
   "id": "f4003b9e",
   "metadata": {},
   "outputs": [
    {
     "name": "stdout",
     "output_type": "stream",
     "text": [
      "Addition: 30\n",
      "Subtraction: -10\n",
      "Multiplication: 200\n",
      "Division: 0.5\n"
     ]
    }
   ],
   "source": [
    "#arithmetic operations\n",
    "a = 10\n",
    "b = 20\n",
    "\n",
    "print(\"Addition:\", a + b)\n",
    "print(\"Subtraction:\", a - b)\n",
    "print(\"Multiplication:\", a * b)\n",
    "print(\"Division:\", a / b)   "
   ]
  },
  {
   "cell_type": "code",
   "execution_count": 8,
   "id": "1f67f758",
   "metadata": {},
   "outputs": [
    {
     "name": "stdout",
     "output_type": "stream",
     "text": [
      "Updated x: 7\n",
      "Updated y: 6\n",
      "Updated z: 12\n",
      "Updated q: 4.0\n"
     ]
    }
   ],
   "source": [
    "#Assignment variables\n",
    "\n",
    "x = 5\n",
    "x += 2  # Increment x by 2  x = 5 +2 = 7 it will update the value of x\n",
    "\n",
    "y = 9\n",
    "y -= 3  # Decrement y by 3  y = 9 - 3 = 6 it will update the value of y\n",
    "\n",
    "z=3\n",
    "z *= 4  # Multiply z by 4  z = 3 * 4 = 12 it will update the value of z\n",
    "\n",
    "q = 8\n",
    "q /= 2  # Divide q by 2  q = 8 / 2# = 4.0 it will update the value of q\n",
    "\n",
    "print(\"Updated x:\", x)\n",
    "print(\"Updated y:\", y)\n",
    "print(\"Updated z:\", z)\n",
    "print(\"Updated q:\", q)"
   ]
  },
  {
   "cell_type": "code",
   "execution_count": null,
   "id": "b67e8084",
   "metadata": {},
   "outputs": [],
   "source": [
    "# 🔸 Comparison Operators\n",
    "# Compare values and return True or False\n",
    "\n",
    "HarshAge = 29\n",
    "\n",
    "#example of greater than operator\n",
    "if HarshAge >= 16:\n",
    "    print(\"Harsh age is greater than 16, so he can watch the movie\")\n",
    "\n",
    "#less than\n",
    "if HarshAge <= 17:\n",
    "    print(\"Harsh can't vote\")\n",
    "\n",
    "#equal to\n",
    "if HarshAge == 20:\n",
    "    print(\"harsh can join the college or function\")\n",
    "\n",
    "#not equal to\n",
    "if HarshAge != 28:\n",
    "    print(\"Harsh can't join the trip\")"
   ]
  },
  {
   "cell_type": "code",
   "execution_count": 6,
   "id": "af7b9537",
   "metadata": {},
   "outputs": [
    {
     "name": "stdout",
     "output_type": "stream",
     "text": [
      "Eligible to vote\n",
      "Eligible to vote\n"
     ]
    }
   ],
   "source": [
    "# 🔸 Logical Operators\n",
    "# Combine multiple conditions using and, or, not\n",
    "\n",
    "harshAge = 22\n",
    "hasId = True\n",
    "\n",
    "#and condition - both the conditions should be true\n",
    "if harshAge >= 18 and hasId:\n",
    "    print(\"Eligible to vote\")\n",
    "else: \n",
    "    print(\"Not eligibile\")\n",
    "\n",
    "# or condition - any one condition should be true\n",
    "if harshAge >= 18 or hasId:\n",
    "    print(\"Eligible to vote\")\n",
    "else: \n",
    "    print(\"Not eligibile\")\n",
    "\n",
    "#not condition - reverse the result\n",
    "\n",
    "if not hasId:\n",
    "    print(\"Yes\")"
   ]
  },
  {
   "cell_type": "code",
   "execution_count": 31,
   "id": "e64e39d8",
   "metadata": {},
   "outputs": [
    {
     "name": "stdout",
     "output_type": "stream",
     "text": [
      "Singh surname in name True\n",
      "False\n",
      "False\n"
     ]
    }
   ],
   "source": [
    "#Membership operators\n",
    "\n",
    "# in and not_in \n",
    "# we use these operators to check is something exists inside a list or string\n",
    "\n",
    "fruits = [\"apple\", \"banana\", \"mango\"]\n",
    "\n",
    "name = \"Rahul Kumar Singh\"\n",
    "\n",
    "print(\"Singh surname in name\", \"Singh\" in name)\n",
    "\n",
    "print(\"cherry\" in fruits) #if cherry is inside fruits - false\n",
    "print(\"apple\" not in fruits) #if apple is not inside fruits - false"
   ]
  },
  {
   "cell_type": "code",
   "execution_count": 11,
   "id": "5da69702",
   "metadata": {},
   "outputs": [
    {
     "name": "stdout",
     "output_type": "stream",
     "text": [
      "Student Passed the Exam\n",
      "Grade B\n"
     ]
    }
   ],
   "source": [
    "# 🔸 Nested Conditions\n",
    "# Conditions inside another conditional block\n",
    "\n",
    "# a nested condtion means putting one if statement inside another. \n",
    "\n",
    "# example - \n",
    "# you are at a movie theatre\n",
    "# check if you hvae the ticket -> if yes then you check if the seat number is correct -> only then you can sit\n",
    "\n",
    "marks = 80\n",
    "\n",
    "if marks >= 60:\n",
    "    print(\"Student Passed the Exam\")\n",
    "    if marks >= 85:\n",
    "        print(\"Grade A\")\n",
    "    else:\n",
    "        print(\"Grade B\")\n",
    "\n",
    "else:\n",
    "    print(\"Student Failed\")"
   ]
  },
  {
   "cell_type": "code",
   "execution_count": 18,
   "id": "02ad1d0c",
   "metadata": {},
   "outputs": [
    {
     "name": "stdout",
     "output_type": "stream",
     "text": [
      "i== 0\n",
      "i== 1\n",
      "i== 2\n",
      "i== 3\n",
      "i== 4\n",
      "i== 5\n",
      "i== 6\n",
      "i== 7\n",
      "i== 8\n",
      "i== 9\n",
      "i== 10\n",
      "i== 11\n"
     ]
    }
   ],
   "source": [
    "# 🔁 Using range() in different ways\n",
    "\n",
    "# range() function - gives you a sequesnce of number to use in the loops\n",
    "# range(start, stop, step)\n",
    "# start - where to start/begin (default = 0)\n",
    "# stop - where to end(it will not include the last) required\n",
    "# step - how much to jump (default = 1)\n",
    "\n",
    "for i in range(12):\n",
    "    print(\"i==\", i)\n"
   ]
  },
  {
   "cell_type": "code",
   "execution_count": 21,
   "id": "c5c5b761",
   "metadata": {},
   "outputs": [
    {
     "name": "stdout",
     "output_type": "stream",
     "text": [
      "countdown: 10\n",
      "countdown: 8\n",
      "countdown: 6\n",
      "countdown: 4\n",
      "countdown: 2\n"
     ]
    }
   ],
   "source": [
    "# range function in reverse\n",
    "\n",
    "for i in range(10, 0, -2):\n",
    "    print(\"countdown:\", i)"
   ]
  },
  {
   "cell_type": "code",
   "execution_count": null,
   "id": "c38cfa01",
   "metadata": {},
   "outputs": [
    {
     "name": "stdout",
     "output_type": "stream",
     "text": [
      "ravi are you present in the class\n",
      "harsh are you present in the class\n",
      "akash are you present in the class\n",
      "rahul are you present in the class\n"
     ]
    }
   ],
   "source": [
    "# 🔸 for Loop\n",
    "# Repeat action for a known number of times\n",
    "\n",
    "# print(1)\n",
    "# print(2)\n",
    "# print(3)\n",
    "# print(4)\n",
    "\n",
    "# for every item in this list, do this action\n",
    "# a for loop in python is used to repeat a block of code for a fixed number of times\n",
    "\n",
    "collection = [\"book\", \"clothes\", \"toys\", \"pen\"]\n",
    "classStudents = [\"ravi\", \"harsh\", \"akash\", \"rahul\"]\n",
    "\n",
    "for item in classStudents:\n",
    "    print(item, \"are you present in the class\")\n",
    "    # do something with item\n",
    "\n",
    "'''\n",
    "Python first gets the list or sequence\n",
    "Then picks one item at a time\n",
    "Runes the particular block of code\n",
    "and Repeat until the list is over\n",
    "'''\n",
    "\n"
   ]
  },
  {
   "cell_type": "code",
   "execution_count": null,
   "id": "21e03d71",
   "metadata": {},
   "outputs": [],
   "source": [
    "# mini practice\n",
    "# make a list of your 5 favourite foods\n",
    "# write a for loop to print each food with a smiley face"
   ]
  },
  {
   "cell_type": "code",
   "execution_count": 25,
   "id": "7386d283",
   "metadata": {},
   "outputs": [
    {
     "name": "stdout",
     "output_type": "stream",
     "text": [
      "count 1\n",
      "count 3\n",
      "count 5\n"
     ]
    }
   ],
   "source": [
    "# 🔸 while Loop\n",
    "# Keep repeating as long as condition is True\n",
    "\n",
    "# we have used for loops mostly when we know how many time we want to run a loop\n",
    "\n",
    "# if we dont know how many time the loop will run, then we use while loop\n",
    "\n",
    "count = 1\n",
    "\n",
    "#1, 2, 3, 4, 5, 6\n",
    "while count <= 6:\n",
    "    print(\"count\", count)\n",
    "    count += 2"
   ]
  },
  {
   "cell_type": "code",
   "execution_count": 29,
   "id": "edbb8715",
   "metadata": {},
   "outputs": [
    {
     "name": "stdout",
     "output_type": "stream",
     "text": [
      "check menu item:  roti\n",
      "check menu item:  dal\n",
      "check menu item:  Paneer butter masala\n",
      "favourite food found! Stop checking.\n"
     ]
    }
   ],
   "source": [
    "# 🔸 break, continue, pass\n",
    "# break: exit the loop\n",
    "# continue: skip current iteration\n",
    "# pass: placeholder, does nothing\n",
    "\n",
    "#break statement\n",
    "\n",
    "# the break keyword is used to exit the loop even before it completes all its cycles\n",
    "\n",
    "menu = [\"roti\", \"dal\", \"Paneer butter masala\", \"Rice\", \"salad\"]\n",
    "\n",
    "for item in menu:\n",
    "    print(\"check menu item: \", item)\n",
    "    if item == \"Paneer butter masala\":\n",
    "        print(\"favourite food found! Stop checking.\")\n",
    "        break"
   ]
  },
  {
   "cell_type": "code",
   "execution_count": null,
   "id": "5cf5b208",
   "metadata": {},
   "outputs": [
    {
     "name": "stdout",
     "output_type": "stream",
     "text": [
      "Marking present Aman\n",
      "Marking present Priya\n",
      "Marking present Akash\n"
     ]
    }
   ],
   "source": [
    "# continue statement\n",
    "# This tells python - Skip this one, move to next \n",
    "students = [\"Aman\", \"Priya\", \"Rahul(Leave)\", \"Akash\"]\n",
    "\n",
    "for student in students:\n",
    "    if \"Leave\" in student:\n",
    "        continue\n",
    "    print(\"Marking present\", student)"
   ]
  },
  {
   "cell_type": "code",
   "execution_count": null,
   "id": "b1e9ed01",
   "metadata": {},
   "outputs": [
    {
     "name": "stdout",
     "output_type": "stream",
     "text": [
      "processing: 0\n",
      "processing: 1\n",
      "processing: 2\n",
      "processing: 3\n",
      "processing: 4\n",
      "processing: 5\n",
      "processing: 7\n"
     ]
    }
   ],
   "source": [
    "#pass statement\n",
    "# pass is like - I will do this part later\n",
    "\n",
    "for i in range(8):\n",
    "    if i ==6:\n",
    "        pass # i will do this case later\n",
    "    else: \n",
    "        print(\"processing:\", i)"
   ]
  },
  {
   "cell_type": "code",
   "execution_count": 36,
   "id": "7c5326fe",
   "metadata": {},
   "outputs": [
    {
     "name": "stdout",
     "output_type": "stream",
     "text": [
      "Student found!\n"
     ]
    }
   ],
   "source": [
    "# 🔸 else with Loops\n",
    "# else block runs only if loop finishes naturally (no break)\n",
    "\n",
    "students = [\"Aman\", \"Priya\", \"Rahul\", \"Akash\"]\n",
    "\n",
    "for name in students:\n",
    "    if name == \"Priya\":\n",
    "        print(\"Student found!\")\n",
    "        break\n",
    "else: \n",
    "    print(\"Student not found\")"
   ]
  },
  {
   "cell_type": "code",
   "execution_count": null,
   "id": "5f031259",
   "metadata": {},
   "outputs": [],
   "source": []
  }
 ],
 "metadata": {
  "kernelspec": {
   "display_name": "Python 3",
   "language": "python",
   "name": "python3"
  },
  "language_info": {
   "codemirror_mode": {
    "name": "ipython",
    "version": 3
   },
   "file_extension": ".py",
   "mimetype": "text/x-python",
   "name": "python",
   "nbconvert_exporter": "python",
   "pygments_lexer": "ipython3",
   "version": "3.12.0"
  }
 },
 "nbformat": 4,
 "nbformat_minor": 5
}
