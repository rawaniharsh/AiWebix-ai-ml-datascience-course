{
 "cells": [
  {
   "cell_type": "markdown",
   "id": "06e0cb29",
   "metadata": {},
   "source": [
    "# 🧩 Lesson: Inbuilt Data Structures in Python\n"
   ]
  },
  {
   "cell_type": "code",
   "execution_count": null,
   "id": "d2f08805",
   "metadata": {},
   "outputs": [],
   "source": [
    "# A list is an ordered collection of items in Python. Lists are mutable, meaning they can be modified after creation.\n",
    "# Lists are defined using square brackets []\n",
    "\n",
    "fruits = [\"apple\", \"banana\", \"cherry\"]\n",
    "print(\"Original List:\", fruits)\n",
    "\n",
    "# Adding an element to the list using append()\n",
    "fruits.append(\"mango\")\n",
    "print(\"After appending 'mango':\", fruits)\n",
    "\n",
    "# Accessing elements from a list using index\n",
    "print(\"First fruit in the list:\", fruits[0])\n",
    "\n",
    "# List comprehension: A concise way to create lists\n",
    "squares = [x**2 for x in range(1, 6)]  # creates [1, 4, 9, 16, 25]\n",
    "print(\"Squares using list comprehension:\", squares)\n"
   ]
  },
  {
   "cell_type": "code",
   "execution_count": null,
   "id": "882f683d",
   "metadata": {},
   "outputs": [],
   "source": [
    "# Tuples are similar to lists but are immutable (cannot be changed after creation).\n",
    "# Defined using parentheses ()\n",
    "\n",
    "dimensions = (1920, 1080)\n",
    "print(\"Screen dimensions:\", dimensions)\n",
    "\n",
    "# Tuples are often used where immutability is important, such as dictionary keys\n",
    "location = {(19.07, 72.87): \"Mumbai\"}\n",
    "print(\"Dictionary using tuple as key:\", location)\n",
    "\n",
    "t = (1, 2, 3)\n",
    "# t.append(4)  ❌ This will throw an error: 'tuple' object has no attribute 'append'\n"
   ]
  },
  {
   "cell_type": "code",
   "execution_count": null,
   "id": "0ed8ab2b",
   "metadata": {},
   "outputs": [],
   "source": [
    "# Sets are unordered collections of unique elements.\n",
    "# Defined using curly braces {}\n",
    "\n",
    "unique_numbers = {1, 2, 3, 2, 1}  # Duplicate values will be automatically removed\n",
    "print(\"Set of unique numbers:\", unique_numbers)\n",
    "\n",
    "# Adding an element to a set\n",
    "unique_numbers.add(4)\n",
    "print(\"Set after adding 4:\", unique_numbers)\n",
    "\n",
    "# Set intersection: elements common to both sets\n",
    "evens = {2, 4, 6}\n",
    "print(\"Common elements with evens:\", unique_numbers & evens)"
   ]
  },
  {
   "cell_type": "code",
   "execution_count": null,
   "id": "f67adc4f",
   "metadata": {},
   "outputs": [],
   "source": [
    "# Dictionaries store key-value pairs. Defined using curly braces and colons.\n",
    "\n",
    "student = {\n",
    "    \"name\": \"Harsh\",\n",
    "    \"age\": 25,\n",
    "    \"course\": \"AI\"\n",
    "}\n",
    "print(\"Student Dictionary:\", student)\n",
    "\n",
    "# Accessing a value using key\n",
    "print(\"Student's Name:\", student[\"name\"])\n",
    "\n",
    "# Adding a new key-value pair\n",
    "student[\"email\"] = \"harsh@example.com\"\n",
    "print(\"Updated Student Dictionary:\", student)\n"
   ]
  },
  {
   "cell_type": "code",
   "execution_count": null,
   "id": "e4d80b6e",
   "metadata": {},
   "outputs": [],
   "source": [
    "# Lists are commonly used in data science for storing sequences like scores, predictions, logs, etc.\n",
    "\n",
    "# Example: storing AI prediction confidence scores\n",
    "predictions = [0.91, 0.84, 0.65, 0.97, 0.73]\n",
    "\n",
    "# Filtering high-confidence predictions (> 0.8)\n",
    "high_confidence = [p for p in predictions if p > 0.8]\n",
    "print(\"High-confidence predictions:\", high_confidence)"
   ]
  }
 ],
 "metadata": {
  "language_info": {
   "name": "python"
  }
 },
 "nbformat": 4,
 "nbformat_minor": 5
}
