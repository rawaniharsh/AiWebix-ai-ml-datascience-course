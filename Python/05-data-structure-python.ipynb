{
 "cells": [
  {
   "cell_type": "markdown",
   "id": "06e0cb29",
   "metadata": {},
   "source": [
    "# 🧩 Lesson: Inbuilt Data Structures in Python\n"
   ]
  },
  {
   "cell_type": "code",
   "execution_count": null,
   "id": "d2f08805",
   "metadata": {},
   "outputs": [
    {
     "name": "stdout",
     "output_type": "stream",
     "text": [
      "original list ['apple', 'banana', 'cherry']\n",
      "After appending mango: ['apple', 'banana', 'cherry', 'Mango']\n",
      "reversed fruits ['Mango', 'grapes', 'cherry', 'banana', 'apple']\n",
      "reversed numbers [3, 9, 8, 6, 12, 5]\n"
     ]
    }
   ],
   "source": [
    "# A list is an ordered collection of items in Python. Lists are mutable, meaning they can be modified after creation.\n",
    "# Lists are defined using square brackets []\n",
    "\n",
    "fruits = [\"apple\", \"banana\", \"cherry\"]\n",
    "\n",
    "print(\"original list\", fruits)\n",
    "\n",
    "\n",
    "#adding an item\n",
    "\n",
    "fruits.append(\"Mango\")\n",
    "print(\"After appending mango:\", fruits)\n",
    "\n",
    "# accessing\n",
    "print(\"last fruit in the list:\", fruits[-1])\n",
    "\n",
    "# popular list methods\n",
    "# insert(i, x)\n",
    "\n",
    "fruits.insert(3, \"grapes\")\n",
    "print(\"after inserting\", fruits)\n",
    "\n",
    "#remove(item)\n",
    "\n",
    "fruits.remove(\"banana\")\n",
    "print(\"after removing\", fruits)\n",
    "\n",
    "# # pop()\n",
    "fruits.pop()\n",
    "print(\"after pop\", fruits)\n",
    "\n",
    "# sort()\n",
    "fruits.sort()\n",
    "print(\"after sort\", fruits)\n",
    "\n",
    "# because of ASCII Values uppercase letter come before lowercase due to ASCII value (\"B\"< \"a\")\n",
    "\n",
    "numbers  =[5, 12, 6, 8, 9, 3]\n",
    "# numbers.sort()\n",
    "# print(\"sorted numbers:\", numbers)\n",
    "\n",
    "# reverse()\n",
    "fruits.reverse()\n",
    "print(\"reversed fruits\", fruits)\n",
    "\n",
    "numbers.reverse()\n",
    "print(\"reversed numbers\", numbers)\n"
   ]
  },
  {
   "cell_type": "code",
   "execution_count": 3,
   "id": "be101975",
   "metadata": {},
   "outputs": [
    {
     "name": "stdout",
     "output_type": "stream",
     "text": [
      "squares list using list comprehension: [1, 4, 9, 16, 25]\n"
     ]
    }
   ],
   "source": [
    "# list comprehension\n",
    "squares = [x**2 for x in range(1, 6)]\n",
    "\n",
    "print(\"squares list using list comprehension:\", squares)"
   ]
  },
  {
   "cell_type": "code",
   "execution_count": 3,
   "id": "882f683d",
   "metadata": {},
   "outputs": [
    {
     "name": "stdout",
     "output_type": "stream",
     "text": [
      "Selected shirt size: ('M', 39, 'l', 40, 'xl', 40, 50.0, True)\n",
      "2\n",
      "4\n"
     ]
    }
   ],
   "source": [
    "# Tuples are similar to lists but are immutable (cannot be changed after creation).\n",
    "# Defined using parentheses ()\n",
    "\n",
    "shirt_size = (\"M\", 39, \"l\", 40, \"xl\", 40, 50.0, True)\n",
    "print(\"Selected shirt size:\", shirt_size)\n",
    "\n",
    "dob = (2004, 9, 25)\n",
    "\n",
    "#tuple methods\n",
    "\n",
    "# count(x)\n",
    "\n",
    "print(shirt_size.count(40))\n",
    "\n",
    "# index(x)\n",
    "print(shirt_size.index('xl'))"
   ]
  },
  {
   "cell_type": "code",
   "execution_count": null,
   "id": "0ed8ab2b",
   "metadata": {},
   "outputs": [
    {
     "name": "stdout",
     "output_type": "stream",
     "text": [
      "final guest list {'Riya', 'Aman', 'Kunal', 'Rahul'}\n"
     ]
    }
   ],
   "source": [
    "# Sets are unordered collections of unique elements.\n",
    "# Defined using curly braces {}\n",
    "# it should not have duplicates\n",
    "# it is mutable(you can add remove data)\n",
    "\n",
    "guests = {\"Riya\", \"Rahul\", \"Aman\", \"Riya\", \"Kunal\"}\n",
    "\n",
    "print(\"final guest list\", guests)\n",
    "\n",
    "# what is ordered collection and unordered collection\n",
    "\n",
    "'''\n",
    "ordered means position of each item matters and is remembered.\n",
    "\n",
    "You can access elements using indexes: like list[3], tuple[2] etc..\n",
    "'''\n",
    "\n",
    "'''\n",
    "Unordered means there is no fixed position of items. Python does not guarantee the order of the storage\n",
    "\n",
    "Also, you can't access elements using indexes\n",
    "'''"
   ]
  },
  {
   "cell_type": "code",
   "execution_count": 14,
   "id": "fbafe5b8",
   "metadata": {},
   "outputs": [
    {
     "name": "stdout",
     "output_type": "stream",
     "text": [
      "Skills after updating: {'Python'}\n"
     ]
    }
   ],
   "source": [
    "# common sets methods\n",
    "\n",
    "# add(x)\n",
    "\n",
    "skills = {\"Spoken\", \"Python\", \"DS\", \"ML\"}\n",
    "\n",
    "skills.add(\"SQL\")\n",
    "\n",
    "#remove(x)\n",
    "\n",
    "# skills.remove(\"Python\")\n",
    "\n",
    "# clear()\n",
    "\n",
    "# skills.clear()\n",
    "\n",
    "# union(set2)\n",
    "\n",
    "projects = {\"Ecommerce app\", \"doctor app\", \"fraud detection\", \"Python\"}\n",
    "\n",
    "# projectSkills = skills.union(projects)\n",
    "\n",
    "# intersection(set2)\n",
    "\n",
    "projectSkills = skills.intersection(projects)\n",
    "\n",
    "print(\"Skills after updating:\", projectSkills)"
   ]
  },
  {
   "cell_type": "code",
   "execution_count": null,
   "id": "f67adc4f",
   "metadata": {},
   "outputs": [
    {
     "name": "stdout",
     "output_type": "stream",
     "text": [
      "{'name': 'Rahul', 'roll no': 12345, 'year': 2, 'email': 'student@gmail.com'}\n"
     ]
    }
   ],
   "source": [
    "# Dictionaries store key-value pairs. Defined using curly braces and colons.\n",
    "# It is also unorderd\n",
    "# It is mutable\n",
    "\n",
    "# student profile example\n",
    "\n",
    "student = {\n",
    "    \"name\": \"Rahul\",\n",
    "    \"roll no\": 12345,\n",
    "    \"course\": \"Btech\",\n",
    "    \"year\": 2\n",
    "}\n",
    "\n",
    "# access a value\n",
    "\n",
    "# print(student[\"course\"])\n",
    "\n",
    "# add a new field(key value pair)\n",
    "\n",
    "student[\"email\"] = \"student@gmail.com\"\n",
    "\n",
    "# dictionary methods\n",
    "\n",
    "# get(key)\n",
    "\n",
    "# print(student.get(\"roll no\"))\n",
    "\n",
    "# keys() - return all keys\n",
    "\n",
    "# print(student.keys())\n",
    "\n",
    "#values() - return all values\n",
    "\n",
    "# print(student.values())\n",
    "\n",
    "# items() - return key value pairs\n",
    "\n",
    "# print(student.items())\n",
    "\n",
    "# update({...}) - Add or update values\n",
    "\n",
    "# add a keyvalue\n",
    "# student.update({\"section\": \"c\"})\n",
    "\n",
    "# update a keyvalue\n",
    "# student.update({\"email\": \"student2@gmail.com\"})\n",
    "\n",
    "# pop(key) - \n",
    "\n",
    "student.pop(\"course\")\n",
    "\n",
    "print(student)\n"
   ]
  },
  {
   "cell_type": "code",
   "execution_count": null,
   "id": "e4d80b6e",
   "metadata": {},
   "outputs": [],
   "source": [
    "# Lists are commonly used in data science for storing sequences like scores, predictions, logs, etc.\n",
    "\n",
    "# use case (student exam scores)\n",
    "\n",
    "student_scores = [89, 76, 53, 99, 86]\n",
    "\n",
    "'''\n",
    "calculate average marks or plot subject wise performance\n",
    "'''\n",
    "\n",
    "#use (confidence scores from an ai model)\n",
    "\n",
    "confidence_scoores = [0.71, 0.435, 0.87, 0.87]\n",
    "\n",
    "'''\n",
    "filter prections with confidence > 0.8\n",
    "\n",
    "sort them to find top confident outputs\n",
    "'''"
   ]
  }
 ],
 "metadata": {
  "kernelspec": {
   "display_name": "Python 3",
   "language": "python",
   "name": "python3"
  },
  "language_info": {
   "codemirror_mode": {
    "name": "ipython",
    "version": 3
   },
   "file_extension": ".py",
   "mimetype": "text/x-python",
   "name": "python",
   "nbconvert_exporter": "python",
   "pygments_lexer": "ipython3",
   "version": "3.12.0"
  }
 },
 "nbformat": 4,
 "nbformat_minor": 5
}
