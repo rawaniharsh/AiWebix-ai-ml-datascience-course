{
 "cells": [
  {
   "cell_type": "markdown",
   "id": "3abcaf78",
   "metadata": {},
   "source": [
    "# 🧩 Lesson: Functions in Python\n",
    "This notebook provides an in-depth understanding of Python functions with real-world analogies, detailed comments, and practical examples."
   ]
  },
  {
   "cell_type": "code",
   "execution_count": null,
   "id": "da0c16ea",
   "metadata": {},
   "outputs": [],
   "source": [
    "# 🔹 What is a Function?\n",
    "# A function in Python is a named block of reusable code that is used to perform a specific task.\n",
    "# It helps you write modular code, reduces redundancy, and improves maintainability.\n",
    "# Real-life example: Think of a coffee machine – you press a button (input), and it gives you coffee (output). \n",
    "# You don't worry about the inner mechanisms. Functions work similarly – they take input, do some processing, and give output.\n",
    "\n",
    "# Example: A simple function that greets a user\n",
    "def greet(name):\n",
    "    # This function returns a welcome message\n",
    "    return f\"Hello, {name}! Welcome to the course.\"\n",
    "\n",
    "# Call the function with an argument\n",
    "print(greet(\"Harsh\"))\n"
   ]
  },
  {
   "cell_type": "code",
   "execution_count": null,
   "id": "d0a4314c",
   "metadata": {},
   "outputs": [],
   "source": [
    "# 🔹 Parameters and Arguments\n",
    "# Parameters are variables listed inside the parentheses in the function definition.\n",
    "# Arguments are the actual values passed to the function when calling it.\n",
    "\n",
    "# Example: Function with two parameters\n",
    "def add(a, b):\n",
    "    return a + b\n",
    "\n",
    "# Calling the function with arguments\n",
    "result = add(5, 3)\n",
    "print(\"Sum is:\", result)\n"
   ]
  },
  {
   "cell_type": "code",
   "execution_count": null,
   "id": "47eeab83",
   "metadata": {},
   "outputs": [],
   "source": [
    "# 🔹 Return Statement\n",
    "# The return statement is used to send a result back to the caller of the function.\n",
    "# Without it, the function will return None by default.\n",
    "\n",
    "def multiply(x, y):\n",
    "    return x * y\n",
    "\n",
    "output = multiply(4, 6)\n",
    "print(\"Multiplication result:\", output)\n"
   ]
  },
  {
   "cell_type": "code",
   "execution_count": null,
   "id": "78e0a464",
   "metadata": {},
   "outputs": [],
   "source": [
    "# 🔹 Default Parameters\n",
    "# You can define default values for parameters so that if no argument is provided, the default is used.\n",
    "\n",
    "def greet_user(name=\"Guest\"):\n",
    "    print(f\"Welcome, {name}!\")\n",
    "\n",
    "greet_user()           # Uses default value\n",
    "greet_user(\"Aarav\")    # Uses provided value\n"
   ]
  },
  {
   "cell_type": "code",
   "execution_count": null,
   "id": "4f8c9e39",
   "metadata": {},
   "outputs": [],
   "source": [
    "# 🔹 Keyword Arguments\n",
    "# These are arguments passed with the parameter name, allowing order flexibility.\n",
    "\n",
    "def student_info(name, age):\n",
    "    print(f\"Name: {name}, Age: {age}\")\n",
    "\n",
    "student_info(age=22, name=\"Priya\")\n"
   ]
  },
  {
   "cell_type": "code",
   "execution_count": null,
   "id": "1a146bc0",
   "metadata": {},
   "outputs": [],
   "source": [
    "# 🔹 Variable-Length Arguments\n",
    "# *args allows passing multiple positional arguments\n",
    "# **kwargs allows passing multiple keyword arguments\n",
    "\n",
    "def show_items(*args):\n",
    "    print(\"Items:\")\n",
    "    for item in args:\n",
    "        print(\"-\", item)\n",
    "\n",
    "def user_details(**kwargs):\n",
    "    print(\"User Details:\")\n",
    "    for key, value in kwargs.items():\n",
    "        print(f\"{key}: {value}\")\n",
    "\n",
    "show_items(\"Pen\", \"Notebook\", \"Laptop\")\n",
    "user_details(name=\"Aman\", city=\"Delhi\", age=21)\n"
   ]
  },
  {
   "cell_type": "code",
   "execution_count": null,
   "id": "d2e1c2be",
   "metadata": {},
   "outputs": [],
   "source": [
    "# 🔹 Scope: Local and Global\n",
    "# Local variables are defined inside a function and can’t be accessed outside.\n",
    "# Global variables are defined outside any function and can be accessed anywhere in the program.\n",
    "\n",
    "course = \"AI & DS\"  # Global variable\n",
    "\n",
    "def course_info():\n",
    "    topic = \"Functions\"  # Local variable\n",
    "    print(f\"We are learning {topic} in {course}\")\n",
    "\n",
    "course_info()\n"
   ]
  },
  {
   "cell_type": "code",
   "execution_count": null,
   "id": "c2fe33d1",
   "metadata": {},
   "outputs": [],
   "source": [
    "# 🔹 Lambda Functions\n",
    "# A lambda function is a small anonymous function used for short operations.\n",
    "\n",
    "# Lambda to calculate square\n",
    "square = lambda x: x * x\n",
    "print(\"Square of 6 is:\", square(6))\n",
    "\n",
    "# Lambda in real-world: sorting by second value in tuple\n",
    "students = [(\"Ravi\", 88), (\"Anjali\", 91), (\"Raj\", 85)]\n",
    "students.sort(key=lambda student: student[1])\n",
    "print(\"Sorted by marks:\", students)\n"
   ]
  },
  {
   "cell_type": "code",
   "execution_count": null,
   "id": "4f73c67b",
   "metadata": {},
   "outputs": [],
   "source": [
    "# 🔹 Nested Functions\n",
    "# Functions defined inside other functions are known as nested functions.\n",
    "# Useful for encapsulating logic and restricting scope.\n",
    "\n",
    "def outer_function():\n",
    "    print(\"Inside outer function\")\n",
    "\n",
    "    def inner_function():\n",
    "        print(\"Inside inner function\")\n",
    "\n",
    "    inner_function()\n",
    "\n",
    "outer_function()\n"
   ]
  },
  {
   "cell_type": "code",
   "execution_count": null,
   "id": "3a68c4b2",
   "metadata": {},
   "outputs": [],
   "source": [
    "# 🔹 Docstrings\n",
    "# Docstrings are multi-line strings used to document a function.\n",
    "# You can access them using the .__doc__ attribute.\n",
    "\n",
    "def divide(a, b):\n",
    "    \"\"\"This function divides a by b and returns the result.\"\"\"\n",
    "    return a / b\n",
    "\n",
    "print(divide.__doc__)\n"
   ]
  }
 ],
 "metadata": {},
 "nbformat": 4,
 "nbformat_minor": 5
}
