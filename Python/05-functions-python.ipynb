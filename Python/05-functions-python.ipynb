{
 "cells": [
  {
   "cell_type": "markdown",
   "id": "3abcaf78",
   "metadata": {},
   "source": [
    "# 🧩 Lesson: Functions in Python\n",
    "This notebook provides an in-depth understanding of Python functions with real-world analogies, detailed comments, and practical examples."
   ]
  },
  {
   "cell_type": "code",
   "execution_count": 3,
   "id": "da0c16ea",
   "metadata": {},
   "outputs": [
    {
     "name": "stdout",
     "output_type": "stream",
     "text": [
      "Hello, Piyush! Welcome to AiWebix.\n"
     ]
    }
   ],
   "source": [
    "# 🔹 What is a Function?\n",
    "# A function in Python is a named block of reusable code that is used to perform a specific task.\n",
    "# It helps you write modular code, reduces redundancy, and improves maintainability.\n",
    "# Real-life example: Think of a coffee machine – you press a button (input), and it gives you coffee (output). \n",
    "# You don't worry about the inner mechanisms. Functions work similarly – they take input, do some processing, and give output.\n",
    "\n",
    "# example\n",
    "\n",
    "def greet(name):\n",
    "    return f\"Hello, {name}! Welcome to AiWebix.\"\n",
    "\n",
    "\n",
    "result = greet(\"Piyush\")\n",
    "\n",
    "print(result)"
   ]
  },
  {
   "cell_type": "code",
   "execution_count": 4,
   "id": "d0a4314c",
   "metadata": {},
   "outputs": [
    {
     "name": "stdout",
     "output_type": "stream",
     "text": [
      "13\n"
     ]
    }
   ],
   "source": [
    "# 🔹 Parameters and Arguments\n",
    "# Parameters are variables listed inside the parentheses in the function definition.\n",
    "# Arguments are the actual values passed to the function when calling it.\n",
    "\n",
    "def add(a, b):\n",
    "    return a + b\n",
    "\n",
    "sum = add(5, 8)\n",
    "\n",
    "print(sum)"
   ]
  },
  {
   "cell_type": "code",
   "execution_count": 12,
   "id": "47eeab83",
   "metadata": {},
   "outputs": [
    {
     "name": "stdout",
     "output_type": "stream",
     "text": [
      "Fail\n"
     ]
    }
   ],
   "source": [
    "# 🔹 Return Statement\n",
    "# The return statement is used to send a result back to the caller of the function.\n",
    "# Without it, the function will return None by default.\n",
    "\n",
    "def check_result(marks):\n",
    "    if marks >= 33:\n",
    "        return \"Pass\"\n",
    "    else:\n",
    "        return \"Fail\"\n",
    "    \n",
    "result = check_result(32)\n",
    "\n",
    "print(result)"
   ]
  },
  {
   "cell_type": "code",
   "execution_count": 20,
   "id": "78e0a464",
   "metadata": {},
   "outputs": [
    {
     "name": "stdout",
     "output_type": "stream",
     "text": [
      "Welcome Rahul\n"
     ]
    }
   ],
   "source": [
    "# 🔹 Default Parameters\n",
    "# You can define default values for parameters so that if no argument is provided, the default is used.\n",
    "\n",
    "def greet_user(name=\"Rahul\"):\n",
    "    return f\"Welcome {name}\"\n",
    "\n",
    "\n",
    "print(greet_user())"
   ]
  },
  {
   "cell_type": "code",
   "execution_count": 23,
   "id": "4f8c9e39",
   "metadata": {},
   "outputs": [
    {
     "name": "stdout",
     "output_type": "stream",
     "text": [
      "Name: Rahul, email: rahul@gmail.com, contact: 9999999 \n"
     ]
    }
   ],
   "source": [
    "# 🔹 Keyword Arguments\n",
    "# These are arguments passed with the parameter name, allowing order flexibility.\n",
    "\n",
    "def contact_form(name, email, contact):\n",
    "    print(f\"Name: {name}, email: {email}, contact: {contact} \")\n",
    "\n",
    "contact_form(contact=9999999, name=\"Rahul\", email=\"rahul@gmail.com\")"
   ]
  },
  {
   "cell_type": "code",
   "execution_count": 27,
   "id": "1a146bc0",
   "metadata": {},
   "outputs": [
    {
     "name": "stdout",
     "output_type": "stream",
     "text": [
      "name: Ridhhi\n",
      "email: Ridhhi@gmail.com\n",
      "city: Bangalore\n",
      "age: 26\n"
     ]
    }
   ],
   "source": [
    "# 🔹 Variable-Length Arguments\n",
    "# *args allows passing multiple positional arguments\n",
    "# **kwargs allows passing multiple keyword arguments\n",
    "\n",
    "# example - order system\n",
    "\n",
    "def order_summary(*items):\n",
    "    print(\"Items in your order\")\n",
    "    for item in items:\n",
    "        print(\"-\", item)\n",
    "\n",
    "# order_summary(\"Pizza\", \"Machurian\", \"French Fries\", \"Cold drink\")\n",
    "\n",
    "# ** kwargs \n",
    "# function to print user details \n",
    "\n",
    "def user_details(**info):\n",
    "    for key, value in info.items():\n",
    "        print(f\"{key}: {value}\")\n",
    "\n",
    "user_details(name=\"Ridhhi\", email=\"Ridhhi@gmail.com\", city=\"Bangalore\", age=26)\n"
   ]
  },
  {
   "cell_type": "code",
   "execution_count": 28,
   "id": "d2e1c2be",
   "metadata": {},
   "outputs": [
    {
     "name": "stdout",
     "output_type": "stream",
     "text": [
      "Ai & Data Science course by AiWebix\n"
     ]
    }
   ],
   "source": [
    "# 🔹 Scope: Local and Global\n",
    "# Local variables are defined inside a function and can’t be accessed outside.\n",
    "# Global variables are defined outside any function and can be accessed anywhere in the program.\n",
    "\n",
    "institute = \"AiWebix\"\n",
    "\n",
    "def show_courses():\n",
    "    course = \"Ai & Data Science\"\n",
    "    print(f\"{course} course by {institute}\")\n",
    "\n",
    "show_courses()"
   ]
  },
  {
   "cell_type": "code",
   "execution_count": null,
   "id": "c2fe33d1",
   "metadata": {},
   "outputs": [
    {
     "name": "stdout",
     "output_type": "stream",
     "text": [
      "Sorted by marks: [('Rahul', 82), ('Ravi', 88), ('Anjali', 91)]\n"
     ]
    }
   ],
   "source": [
    "# 🔹 Lambda Functions\n",
    "# A lambda function is a small anonymous function used for short operations.\n",
    "\n",
    "# quick one line function -  no name - just action\n",
    "\n",
    "# squre of number using lambda\n",
    "\n",
    "square = lambda x: x*x\n",
    "\n",
    "# print(\"Square of 8: \", square(8))\n",
    "\n",
    "# sort the students by marks\n",
    "\n",
    "students_marks = [(\"Ravi\", 88), (\"Anjali\", 91), (\"Rahul\", 82)]\n",
    "\n",
    "# (\"Rahul\", 82)\n",
    "\n",
    "students_marks[0] = (\"Ravi\", 88)\n",
    "\n",
    "\n",
    "students_marks.sort(key=lambda students_marks: students_marks[1])\n",
    "\n",
    "# key tells python how to sort - based on what value\n",
    "# lambda students_marks: students_marks[1] = lambda function that says from each tuple (student_marks) return the second item, student_marks[1]-> markks\n",
    "\n",
    "print(\"Sorted by marks:\", students_marks)"
   ]
  },
  {
   "cell_type": "code",
   "execution_count": null,
   "id": "4f73c67b",
   "metadata": {},
   "outputs": [],
   "source": [
    "# 🔹 Nested Functions\n",
    "# Functions defined inside other functions are known as nested functions.\n",
    "# Useful for encapsulating logic and restricting scope."
   ]
  },
  {
   "cell_type": "code",
   "execution_count": null,
   "id": "3a68c4b2",
   "metadata": {},
   "outputs": [],
   "source": [
    "# 🔹 Docstrings\n",
    "# Docstrings are multi-line strings used to document a function.\n",
    "# You can access them using the .__doc__ attribute."
   ]
  }
 ],
 "metadata": {
  "kernelspec": {
   "display_name": "Python 3",
   "language": "python",
   "name": "python3"
  },
  "language_info": {
   "codemirror_mode": {
    "name": "ipython",
    "version": 3
   },
   "file_extension": ".py",
   "mimetype": "text/x-python",
   "name": "python",
   "nbconvert_exporter": "python",
   "pygments_lexer": "ipython3",
   "version": "3.12.0"
  }
 },
 "nbformat": 4,
 "nbformat_minor": 5
}
