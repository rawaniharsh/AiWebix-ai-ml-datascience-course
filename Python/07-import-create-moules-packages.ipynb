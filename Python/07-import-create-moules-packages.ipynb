{
 "cells": [
  {
   "cell_type": "markdown",
   "id": "120a5bf0",
   "metadata": {},
   "source": [
    "# 🎬 Video Outline: Import & Create Modules and Packages in Python\n",
    "\n",
    "## 📌 Topics Covered:\n",
    "1. What is a Module?\n",
    "2. Importing Built-in Modules\n",
    "3. Creating and Importing Your Own Module\n",
    "4. `import` vs `from ... import ...`\n",
    "5. `as` Keyword for Aliasing\n",
    "6. Reloading Modules\n",
    "7. What is a Package?\n",
    "8. Creating and Using Packages\n",
    "9. `__init__.py` File\n",
    "10. Directory Structure of Packages\n",
    "11. Real-world Use Cases\n",
    "12. Common Mistakes and Fixes"
   ]
  },
  {
   "cell_type": "code",
   "execution_count": null,
   "id": "94c9d7c5",
   "metadata": {},
   "outputs": [],
   "source": [
    "# In Python, a module is simply a .py file that contains Python code (functions, classes, etc.)\n",
    "# It allows code reuse and better organization.\n",
    "\n",
    "# ✅ Example: Importing built-in module\n",
    "import math\n",
    "\n",
    "print(\"Square root of 25 is:\", math.sqrt(25))\n"
   ]
  },
  {
   "cell_type": "code",
   "execution_count": null,
   "id": "8cfddecb",
   "metadata": {},
   "outputs": [],
   "source": [
    "# Let's say we create a file called `my_utils.py` with this content:\n",
    "# def greet(name):\n",
    "#     return f\"Hello, {name}!\"\n",
    "\n",
    "# ✅ Then in your main script you can use:\n",
    "# import my_utils\n",
    "# print(my_utils.greet(\"Harsh\"))\n",
    "\n",
    "# ⚠️ Common mistake:\n",
    "# Trying to import a file that doesn't exist or is not in the path\n",
    "# import my_module  # ❌ This will cause ModuleNotFoundError\n"
   ]
  },
  {
   "cell_type": "code",
   "execution_count": null,
   "id": "e8b26b5b",
   "metadata": {},
   "outputs": [],
   "source": [
    "# Import specific functions or variables\n",
    "from math import pi, pow\n",
    "\n",
    "print(\"Pi:\", pi)\n",
    "print(\"Power 3^4:\", pow(3, 4))\n",
    "\n",
    "# Aliasing\n",
    "import math as m\n",
    "print(\"Ceiling of 3.7 is:\", m.ceil(3.7))\n"
   ]
  },
  {
   "cell_type": "code",
   "execution_count": null,
   "id": "14bcc40b",
   "metadata": {},
   "outputs": [],
   "source": [
    "''' A package is a folder that contains a special file called __init__.py.\n",
    "The __init__.py file can be empty but must be present (especially in older versions of Python).\n",
    "\n",
    "In Python, __init__.py is a special file used to mark a directory as a Python package. \n",
    "It is run when the package or any of its modules is imported.\n",
    "Before Python 3.3, without __init__.py, Python didn’t treat the folder as a package — \n",
    "so you couldn’t import from it. Even in modern Python, it's still good practice to include it.\n",
    "\n",
    "🧠 Think of It Like This (Real-Life Analogy):\n",
    "Imagine a package is like a house, and the __init__.py file is like the main gate.\n",
    "Without the gate, people (Python interpreter) \n",
    "don't know how to enter or whether it's a proper house (package).\n",
    "'''\n",
    "\n",
    "# Directory structure:\n",
    "# my_package/\n",
    "# ├── __init__.py\n",
    "# ├── calc.py\n",
    "# └── tools.py\n",
    "\n",
    "# ✅ Usage:\n",
    "# from my_package import calc\n",
    "# calc.add(2, 3)\n",
    "\n",
    "# ⚠️ Without __init__.py (in older versions of Python), this will not work as expected.\n"
   ]
  }
 ],
 "metadata": {
  "language_info": {
   "name": "python"
  }
 },
 "nbformat": 4,
 "nbformat_minor": 5
}
