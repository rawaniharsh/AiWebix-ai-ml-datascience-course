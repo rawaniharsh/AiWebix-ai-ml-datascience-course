{
 "cells": [
  {
   "cell_type": "code",
   "execution_count": null,
   "id": "c7432bbe",
   "metadata": {},
   "outputs": [
    {
     "name": "stdout",
     "output_type": "stream",
     "text": [
      "price in dollar-> [1.2, 3.0, 5.4, 1.08]\n"
     ]
    }
   ],
   "source": [
    "# 🔸 map() Function\n",
    "# map() applies a function to each item of an iterable (like a list) and returns a map object.\n",
    "# It is commonly used for data transformation and formatting.\n",
    "\n",
    "#basic syntac of map function - map(function, iterable)\n",
    "\n",
    "# swiggy price converter\n",
    "price_in_rupees = [100, 250, 450, 90]\n",
    "conversion_rate = 0.012\n",
    "\n",
    "def convert_to_dollars(price):\n",
    "    return round(price*conversion_rate, 2)\n",
    "\n",
    "price_in_dollars = list(map(convert_to_dollars, price_in_rupees))\n",
    "\n",
    "# convert_to_dollars(100) -> 1.2\n",
    "# convert_to_dollars(250) -> 3.0\n",
    "\n",
    "print(\"price in dollar->\", price_in_dollars)\n",
    "\n",
    "# when to use this map function\n",
    "\n",
    "# transforming data\n",
    "# preprocsessing steps in ml/ai\n",
    "# feature engineering (Ai pipilines)"
   ]
  },
  {
   "cell_type": "code",
   "execution_count": null,
   "id": "2b4d2fd6",
   "metadata": {},
   "outputs": [
    {
     "name": "stdout",
     "output_type": "stream",
     "text": [
      "even number [4, 8, 12]\n",
      "Failed students: [12, 34, 30]\n"
     ]
    }
   ],
   "source": [
    "# 🔸 filter() Function\n",
    "# filter() filters items out of an iterable using a condition (function returning True/False).\n",
    "# Useful in real projects like filtering passed students, valid inputs, etc.\n",
    "\n",
    "# basic syntax - filter(function, iterable)\n",
    "# iterable - group of items like list\n",
    "\n",
    "nums = [1, 3, 4, 5, 8, 12]\n",
    "\n",
    "evens = list(filter(lambda x: x%2 ==0, nums))\n",
    "\n",
    "print(\"even number\", evens)\n",
    "\n",
    "# filter failed students (marks<=40)\n",
    "\n",
    "marks = [12, 34, 67, 45, 30, 98]\n",
    "\n",
    "def is_fail(m):\n",
    "    return m<=40\n",
    "\n",
    "failed = list(filter(is_fail, marks))\n",
    "\n",
    "print(\"Failed students:\", failed)\n",
    "\n",
    "# difference between map and filter\n",
    "\n",
    "# map() - transofrms elements\n",
    "# filter() - selects elements"
   ]
  },
  {
   "cell_type": "code",
   "execution_count": null,
   "id": "8562ff7b",
   "metadata": {},
   "outputs": [],
   "source": []
  }
 ],
 "metadata": {
  "kernelspec": {
   "display_name": "Python 3",
   "language": "python",
   "name": "python3"
  },
  "language_info": {
   "codemirror_mode": {
    "name": "ipython",
    "version": 3
   },
   "file_extension": ".py",
   "mimetype": "text/x-python",
   "name": "python",
   "nbconvert_exporter": "python",
   "pygments_lexer": "ipython3",
   "version": "3.13.5"
  }
 },
 "nbformat": 4,
 "nbformat_minor": 5
}
