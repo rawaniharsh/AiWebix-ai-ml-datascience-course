{
 "cells": [
  {
   "cell_type": "code",
   "execution_count": null,
   "id": "86c8b4b0",
   "metadata": {},
   "outputs": [],
   "source": [
    "# 🔸 Anonymous (Lambda) Function\n",
    "# Lambda functions are small, unnamed functions defined using the 'lambda' keyword.\n",
    "# They are useful when you need a simple function for a short period and don’t want to formally define it using 'def'.\n",
    "# Syntax: lambda arguments: expression\n",
    "\n",
    "# ✅ Example 1: Calculate square of a number\n",
    "# A quick math operation without creating a full function\n",
    "square = lambda x: x ** 2\n",
    "print(\"Square of 5:\", square(5))\n",
    "\n",
    "# ✅ Example 2: Add 18% GST to a bill\n",
    "# Real-world billing example where quick tax addition is needed\n",
    "gst = lambda x: x + (x * 0.18)\n",
    "print(\"Final price after GST on ₹1000:\", gst(1000))\n",
    "\n",
    "# ✅ Example 3: Sort students by marks using lambda in key\n",
    "students = [(\"Harsh\", 80), (\"Priya\", 95), (\"Amit\", 88)]\n",
    "sorted_students = sorted(students, key=lambda x: x[1], reverse=True)\n",
    "print(\"Sorted Students by Marks:\", sorted_students)\n"
   ]
  },
  {
   "cell_type": "code",
   "execution_count": null,
   "id": "c7432bbe",
   "metadata": {},
   "outputs": [],
   "source": [
    "# 🔸 map() Function\n",
    "# map() applies a function to each item of an iterable (like a list) and returns a map object.\n",
    "# It is commonly used for data transformation and formatting.\n",
    "\n",
    "# ✅ Example: Convert all names to uppercase\n",
    "names = [\"raj\", \"simran\", \"karan\"]\n",
    "upper_names = list(map(str.upper, names))\n",
    "print(\"Uppercase names:\", upper_names)\n",
    "\n",
    "# ✅ Example: Convert hours to minutes\n",
    "# Real-world scenario: Suppose you are calculating durations for a timetable.\n",
    "hours = [1, 2, 3, 4]\n",
    "minutes = list(map(lambda h: h * 60, hours))\n",
    "print(\"Converted minutes:\", minutes)"
   ]
  },
  {
   "cell_type": "code",
   "execution_count": null,
   "id": "2b4d2fd6",
   "metadata": {},
   "outputs": [],
   "source": [
    "# 🔸 filter() Function\n",
    "# filter() filters items out of an iterable using a condition (function returning True/False).\n",
    "# Useful in real projects like filtering passed students, valid inputs, etc.\n",
    "\n",
    "# ✅ Example: Filter even numbers from a list\n",
    "numbers = [1, 2, 3, 4, 5, 6]\n",
    "evens = list(filter(lambda x: x % 2 == 0, numbers))\n",
    "print(\"Even numbers:\", evens)\n",
    "\n",
    "# ✅ Example: Filter names starting with 'A'\n",
    "# Real-world scenario: Searching in a contact list\n",
    "names = [\"Amit\", \"Ravi\", \"Anita\", \"Suresh\"]\n",
    "a_names = list(filter(lambda name: name.startswith('A'), names))\n",
    "print(\"Names starting with A:\", a_names)"
   ]
  },
  {
   "cell_type": "code",
   "execution_count": null,
   "id": "8562ff7b",
   "metadata": {},
   "outputs": [],
   "source": []
  }
 ],
 "metadata": {
  "language_info": {
   "name": "python"
  }
 },
 "nbformat": 4,
 "nbformat_minor": 5
}
