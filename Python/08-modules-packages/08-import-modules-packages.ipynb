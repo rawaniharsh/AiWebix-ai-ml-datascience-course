{
 "cells": [
  {
   "cell_type": "markdown",
   "id": "120a5bf0",
   "metadata": {},
   "source": [
    "# Import & Create Modules and Packages in Python\n",
    "\n",
    "## 📌 Topics Covered:\n",
    "1. What is a Module?\n",
    "2. Importing Built-in Modules\n",
    "3. Creating and Importing Your Own Module\n",
    "4. `import` vs `from ... import ...`\n",
    "5. `as` Keyword for Aliasing\n",
    "6. Reloading Modules\n",
    "7. What is a Package?\n",
    "8. Creating and Using Packages\n",
    "9. `__init__.py` File\n",
    "10. Directory Structure of Packages\n",
    "11. Real-world Use Cases\n",
    "12. Common Mistakes and Fixes"
   ]
  },
  {
   "cell_type": "code",
   "execution_count": null,
   "id": "94c9d7c5",
   "metadata": {},
   "outputs": [
    {
     "name": "stdout",
     "output_type": "stream",
     "text": [
      "27\n"
     ]
    }
   ],
   "source": [
    "# In Python, a module is simply a .py file that contains Python code (functions, classes, etc.) \n",
    "# which we can import and reuse in other programs\n",
    "# It allows code reuse and better organization.\n",
    "\n",
    "# Importing our own module\n",
    "\n",
    "import math_tools\n",
    "\n",
    "print(math_tools.square(8))\n",
    "print(math_tools.cube(3))\n"
   ]
  },
  {
   "cell_type": "code",
   "execution_count": 10,
   "id": "3e920416",
   "metadata": {},
   "outputs": [
    {
     "name": "stdout",
     "output_type": "stream",
     "text": [
      "date time current 2025-07-09 15:52:22.493042\n"
     ]
    }
   ],
   "source": [
    "# importing built in modules\n",
    "\n",
    "# math, random, datetime and many more\n",
    "\n",
    "#math - mathematical functions\n",
    "import math\n",
    "\n",
    "# print(math.sqrt(8))\n",
    "# print(math.pi)\n",
    "\n",
    "# random - random number generation\n",
    "\n",
    "# import random\n",
    "\n",
    "# print(random.randint(1, 2000))\n",
    "\n",
    "# datetime - Date and time handling\n",
    "\n",
    "from datetime import datetime\n",
    "\n",
    "now = datetime.now()\n",
    "\n",
    "print(\"date time current\",now)"
   ]
  },
  {
   "cell_type": "code",
   "execution_count": null,
   "id": "3ea837ea",
   "metadata": {},
   "outputs": [],
   "source": [
    "# import vs from ... import ..\n",
    "\n",
    "# use selective import when you only need one or two functions - it saves memory and improves readability"
   ]
  },
  {
   "cell_type": "code",
   "execution_count": 13,
   "id": "b370f25d",
   "metadata": {},
   "outputs": [
    {
     "name": "stdout",
     "output_type": "stream",
     "text": [
      "27\n"
     ]
    }
   ],
   "source": [
    "# using as for aliasing\n",
    "\n",
    "# we can use 'as' to give our module a shorter nickname\n",
    "\n",
    "import math_tools as mt\n",
    "\n",
    "print(mt.cube(3))"
   ]
  },
  {
   "cell_type": "code",
   "execution_count": null,
   "id": "00603719",
   "metadata": {},
   "outputs": [],
   "source": [
    "# reloading modules\n",
    "import importlib\n",
    "import math_tools\n",
    "\n",
    "importlib.reload(math_tools)"
   ]
  },
  {
   "cell_type": "code",
   "execution_count": 15,
   "id": "14bcc40b",
   "metadata": {},
   "outputs": [
    {
     "name": "stdout",
     "output_type": "stream",
     "text": [
      "greet from package: Hello Everyone!\n",
      "addition from package: 20\n"
     ]
    }
   ],
   "source": [
    "''' A package is a folder that contains a special file called __init__.py.\n",
    "The __init__.py file can be empty but must be present (especially in older versions of Python).\n",
    "\n",
    "In Python, __init__.py is a special file used to mark a directory as a Python package. \n",
    "It is run when the package or any of its modules is imported.\n",
    "Before Python 3.3, without __init__.py, Python didn’t treat the folder as a package — \n",
    "so you couldn’t import from it. Even in modern Python, it's still good practice to include it.\n",
    "\n",
    "🧠 Think of It Like This (Real-Life Analogy):\n",
    "Imagine a package is like a house, and the __init__.py file is like the main gate.\n",
    "Without the gate, people (Python interpreter) \n",
    "don't know how to enter or whether it's a proper house (package).\n",
    "'''\n",
    "\n",
    "# Directory structure:\n",
    "# my_package/\n",
    "# ├── __init__.py\n",
    "# ├── calc.py\n",
    "# └── tools.py\n",
    "\n",
    "# ✅ Usage:\n",
    "# from my_package import calc\n",
    "# calc.add(2, 3)\n",
    "\n",
    "# ⚠️ Without __init__.py (in older versions of Python), this will not work as expected.\n",
    "\n",
    "from my_package import calculations, greetings\n",
    "\n",
    "print(\"greet from package:\", greetings.say_hi())\n",
    "print(\"addition from package:\", calculations.add(12, 8))\n"
   ]
  },
  {
   "cell_type": "code",
   "execution_count": null,
   "id": "5d876e2c",
   "metadata": {},
   "outputs": [],
   "source": [
    "# common mistakes\n",
    "\n",
    "# ModuleNotFoundError - Wrong path - check folder and __init.py__ file\n",
    "# Import Error - Wrong function name - Double check the spelling\n",
    "# Cirular imports - Modules importing each other - Refactor logic"
   ]
  }
 ],
 "metadata": {
  "kernelspec": {
   "display_name": "Python 3",
   "language": "python",
   "name": "python3"
  },
  "language_info": {
   "codemirror_mode": {
    "name": "ipython",
    "version": 3
   },
   "file_extension": ".py",
   "mimetype": "text/x-python",
   "name": "python",
   "nbconvert_exporter": "python",
   "pygments_lexer": "ipython3",
   "version": "3.13.5"
  }
 },
 "nbformat": 4,
 "nbformat_minor": 5
}
