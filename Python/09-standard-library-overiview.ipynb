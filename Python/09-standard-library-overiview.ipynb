{
 "cells": [
  {
   "cell_type": "markdown",
   "id": "b3a1a560",
   "metadata": {},
   "source": [
    "# Standard Library Overview\n",
    "\n",
    "## 📌 Topics Cover:\n",
    "1. What is the Python Standard Library?\n",
    "2. Why Use Standard Library Modules?\n",
    "3. Categories of Standard Library Modules\n",
    "   - Math & Numbers (`math`, `random`, `decimal`)\n",
    "   - Date & Time (`datetime`, `time`, `calendar`)\n",
    "   - OS Interaction (`os`, `sys`, `platform`)\n",
    "   - File Handling (`os.path`, `shutil`, `glob`)\n",
    "   - Web & Internet (`urllib`, `http`, `json`)\n",
    "   - Data Persistence (`pickle`, `shelve`)\n",
    "   - Regular Expressions (`re`)\n",
    "   - Data Structures (`collections`, `heapq`)\n",
    "   - Debugging & Testing (`logging`, `unittest`)\n",
    "4. How to Explore and Use the Standard Library\n",
    "5. Real-world Examples of Modules\n",
    "6. Common Mistakes and How to Avoid Them\n",
    "7. How to Search and Learn Any Standard Library Module\n"
   ]
  },
  {
   "cell_type": "code",
   "execution_count": 1,
   "id": "56022a65",
   "metadata": {},
   "outputs": [
    {
     "name": "stdout",
     "output_type": "stream",
     "text": [
      "Square root of 64 is: 8.0\n"
     ]
    }
   ],
   "source": [
    "# what is python standard library\n",
    "# it's a massive collection of modules and packages that are automatically installed when you install python\n",
    "\n",
    "import math\n",
    "print(\"Square root of 64 is:\", math.sqrt(64))"
   ]
  },
  {
   "cell_type": "code",
   "execution_count": null,
   "id": "5a95cb17",
   "metadata": {},
   "outputs": [],
   "source": [
    "# why use standard library\n",
    "# it offers reliability, efficiency and convenience"
   ]
  },
  {
   "cell_type": "code",
   "execution_count": null,
   "id": "3091f69e",
   "metadata": {},
   "outputs": [
    {
     "name": "stdout",
     "output_type": "stream",
     "text": [
      "Current date and time: 2025-07-19 10:31:13.059626\n",
      "Formatted date and time: 19 07 2025 10:31:13\n"
     ]
    }
   ],
   "source": [
    "# date & time (datetime)\n",
    "\n",
    "import datetime\n",
    "\n",
    "now = datetime.datetime.now()\n",
    "print(\"Current date and time:\", now)\n",
    "\n",
    "# formatting datefram\n",
    "print(\"Formatted date and time:\", now.strftime(\"%d-%m-%Y %H:%M:%S\"))"
   ]
  },
  {
   "cell_type": "code",
   "execution_count": 7,
   "id": "5b6438bd",
   "metadata": {},
   "outputs": [
    {
     "name": "stdout",
     "output_type": "stream",
     "text": [
      "Current working directory /Users/harsh/Documents/Work/AiWebix/AiWebix-ai-ml-datascience-course/Python\n",
      "Directoruy contents: ['08-modules-packages', '06-functions-python.ipynb', '.DS_Store', '04-control-flow-python.ipynb', '09-standard-library-overiview.ipynb', '03-variables-data-types.ipynb', '02-print-in-python.ipynb', '05-data-structure-python.ipynb', '01-python_syntax_structure.ipynb', '07-map-filter-function.ipynb']\n"
     ]
    }
   ],
   "source": [
    "# os module\n",
    "# os module is your bridge to the computers operating system, it lets you work with files and directories\n",
    "\n",
    "import os\n",
    "\n",
    "print(\"Current working directory\", os.getcwd())\n",
    "\n",
    "#list files and folders\n",
    "print(\"Directoruy contents:\", os.listdir())"
   ]
  },
  {
   "cell_type": "code",
   "execution_count": 21,
   "id": "04df672a",
   "metadata": {},
   "outputs": [
    {
     "name": "stdout",
     "output_type": "stream",
     "text": [
      "HTTPS status code 200\n"
     ]
    }
   ],
   "source": [
    "# web request basic example\n",
    "\n",
    "from urllib.request import urlopen\n",
    "import ssl\n",
    "\n",
    "# create an unverified ssl context\n",
    "\n",
    "ssl_context = ssl._create_unverified_context()\n",
    "\n",
    "url = \"https://www.python.org\"\n",
    "\n",
    "try:\n",
    "    response = urlopen(url, context=ssl_context)\n",
    "    print(\"HTTPS status code\", response.status)\n",
    "except Exception as e:\n",
    "    print(f\"An error occured: {e}\")"
   ]
  },
  {
   "cell_type": "code",
   "execution_count": null,
   "id": "98dfae59",
   "metadata": {},
   "outputs": [
    {
     "name": "stdout",
     "output_type": "stream",
     "text": [
      "Json string {\"name\": \"harsh\", \"age\": 28, \"city\": \"Bangalore\"} <class 'str'> <class 'dict'>\n",
      "Parsed data: {'name': 'harsh', 'age': 28, 'city': 'Bangalore'} <class 'dict'>\n"
     ]
    }
   ],
   "source": [
    "# json handling\n",
    "import json\n",
    "\n",
    "data = {\"name\": \"harsh\", \"age\": 28, \"city\": \"Bangalore\"}\n",
    "\n",
    "# convert python dict to a json string ( to send it somewhere through the api)\n",
    "json_String = json.dumps(data)\n",
    "\n",
    "print(\"Json string\", json_String, type(json_String), type(data))\n",
    "\n",
    "#convert a json string back to python dict\n",
    "parsed = json.loads(json_String)\n",
    "print(\"Parsed data:\", parsed, type(parsed))"
   ]
  },
  {
   "cell_type": "code",
   "execution_count": null,
   "id": "6641ed00",
   "metadata": {},
   "outputs": [
    {
     "name": "stdout",
     "output_type": "stream",
     "text": [
      "Phone numnber found: 9982392983\n"
     ]
    }
   ],
   "source": [
    "# regular expression or regex\n",
    "# it' a powerful tool for finding or matching patterns in text. highly advanced find and replace that use a special syntax to define complex search patterns\n",
    "\n",
    "import re\n",
    "\n",
    "text = \"My phone number is 9982392983 and not 12345\"\n",
    "\n",
    "# r`\\d{10}`` is a pattern that looks for exactly 10 digits\n",
    "match = re.search(r'\\d{10}', text)\n",
    "\n",
    "if match: \n",
    "    print(\"Phone numnber found:\", match.group())\n",
    "\n",
    "# uses:\n",
    "# validation, searching, replacing, splitting"
   ]
  },
  {
   "cell_type": "code",
   "execution_count": 30,
   "id": "78377e01",
   "metadata": {},
   "outputs": [
    {
     "name": "stdout",
     "output_type": "stream",
     "text": [
      "Item counts:  Counter({'banana': 3, 'apple': 2, 'orange': 1, 'mango': 1})\n",
      "Most common item: [('banana', 3), ('apple', 2)]\n"
     ]
    }
   ],
   "source": [
    "# collection\n",
    "\n",
    "from collections import Counter\n",
    "\n",
    "# Imagine this is a list of items sold in a store today\n",
    "data = [\"apple\", \"banana\", \"orange\", \"mango\", \"apple\", \"banana\", \"banana\"]\n",
    "\n",
    "fruit_counts = Counter(data)\n",
    "\n",
    "print(\"Item counts: \", fruit_counts)\n",
    "\n",
    "# most common fruit\n",
    "print(\"Most common item:\", fruit_counts.most_common(2))"
   ]
  },
  {
   "cell_type": "code",
   "execution_count": 33,
   "id": "8181bfa4",
   "metadata": {},
   "outputs": [
    {
     "name": "stdout",
     "output_type": "stream",
     "text": [
      "3.0\n"
     ]
    }
   ],
   "source": [
    "from math import sqrt\n",
    "\n",
    "try:\n",
    "    print(sqrt(9))\n",
    "except NameError as e:\n",
    "    print(e)"
   ]
  }
 ],
 "metadata": {
  "kernelspec": {
   "display_name": "Python 3",
   "language": "python",
   "name": "python3"
  },
  "language_info": {
   "codemirror_mode": {
    "name": "ipython",
    "version": 3
   },
   "file_extension": ".py",
   "mimetype": "text/x-python",
   "name": "python",
   "nbconvert_exporter": "python",
   "pygments_lexer": "ipython3",
   "version": "3.13.5"
  }
 },
 "nbformat": 4,
 "nbformat_minor": 5
}
