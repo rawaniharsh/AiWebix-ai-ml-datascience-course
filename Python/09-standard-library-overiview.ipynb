{
 "cells": [
  {
   "cell_type": "markdown",
   "id": "b3a1a560",
   "metadata": {},
   "source": [
    "# 🎬 Video Outline: Standard Library Overview\n",
    "\n",
    "## 📌 Topics Covered:\n",
    "1. What is the Python Standard Library?\n",
    "2. Why Use Standard Library Modules?\n",
    "3. Categories of Standard Library Modules\n",
    "   - Math & Numbers (`math`, `random`, `decimal`)\n",
    "   - Date & Time (`datetime`, `time`, `calendar`)\n",
    "   - OS Interaction (`os`, `sys`, `platform`)\n",
    "   - File Handling (`os.path`, `shutil`, `glob`)\n",
    "   - Web & Internet (`urllib`, `http`, `json`)\n",
    "   - Data Persistence (`pickle`, `shelve`)\n",
    "   - Regular Expressions (`re`)\n",
    "   - Data Structures (`collections`, `heapq`)\n",
    "   - Debugging & Testing (`logging`, `unittest`)\n",
    "4. How to Explore and Use the Standard Library\n",
    "5. Real-world Examples of Modules\n",
    "6. Common Mistakes and How to Avoid Them\n",
    "7. How to Search and Learn Any Standard Library Module\n"
   ]
  },
  {
   "cell_type": "code",
   "execution_count": null,
   "id": "9831010d",
   "metadata": {},
   "outputs": [],
   "source": [
    "# 📘 What is Python Standard Library?\n",
    "# The Python Standard Library is a large collection of built-in modules and packages\n",
    "# that come with Python installation — no need to install them separately.\n",
    "\n",
    "# ✅ Example: Using math module\n",
    "import math\n",
    "print(\"Square root of 64 is:\", math.sqrt(64))  # Output: 8.0\n",
    "\n",
    "# ✅ Example: Using random module\n",
    "import random\n",
    "print(\"Random number between 1 and 10:\", random.randint(1, 10))"
   ]
  },
  {
   "cell_type": "code",
   "execution_count": null,
   "id": "87ff3056",
   "metadata": {},
   "outputs": [],
   "source": [
    "# ✅ Date and Time Handling\n",
    "import datetime\n",
    "\n",
    "now = datetime.datetime.now()\n",
    "print(\"Current date and time:\", now)\n",
    "\n",
    "# Formatting datetime\n",
    "print(\"Formatted:\", now.strftime(\"%d-%m-%Y %H:%M:%S\"))"
   ]
  },
  {
   "cell_type": "code",
   "execution_count": null,
   "id": "6d2b364c",
   "metadata": {},
   "outputs": [],
   "source": [
    "# ✅ OS Interaction\n",
    "import os\n",
    "\n",
    "print(\"Current working directory:\", os.getcwd())\n",
    "\n",
    "# List files and folders\n",
    "print(\"Directory contents:\", os.listdir())"
   ]
  },
  {
   "cell_type": "code",
   "execution_count": null,
   "id": "e949a51f",
   "metadata": {},
   "outputs": [],
   "source": [
    "# ✅ Web Requests (basic example)\n",
    "from urllib.request import urlopen\n",
    "\n",
    "url = \"https://www.example.com\"\n",
    "response = urlopen(url)\n",
    "print(\"HTTP Status Code:\", response.status)"
   ]
  },
  {
   "cell_type": "code",
   "execution_count": null,
   "id": "b9983afc",
   "metadata": {},
   "outputs": [],
   "source": [
    "# ✅ JSON Handling\n",
    "import json\n",
    "\n",
    "data = {'name': 'Harsh', 'age': 25}\n",
    "json_string = json.dumps(data)\n",
    "print(\"JSON string:\", json_string)\n",
    "\n",
    "# Convert back to Python dict\n",
    "parsed = json.loads(json_string)\n",
    "print(\"Parsed name:\", parsed['name'])"
   ]
  },
  {
   "cell_type": "code",
   "execution_count": null,
   "id": "e9cb03c1",
   "metadata": {},
   "outputs": [],
   "source": [
    "# ✅ Regular Expressions\n",
    "import re\n",
    "\n",
    "text = \"My phone number is 9876543210\"\n",
    "match = re.search(r'\\d{10}', text)\n",
    "if match:\n",
    "    print(\"Phone number found:\", match.group())"
   ]
  },
  {
   "cell_type": "code",
   "execution_count": null,
   "id": "78851bc4",
   "metadata": {},
   "outputs": [],
   "source": [
    "# ✅ Data Structures\n",
    "from collections import Counter\n",
    "\n",
    "data = [\"apple\", \"banana\", \"apple\", \"orange\", \"banana\", \"apple\"]\n",
    "print(\"Item counts:\", Counter(data))"
   ]
  },
  {
   "cell_type": "code",
   "execution_count": null,
   "id": "82973814",
   "metadata": {},
   "outputs": [],
   "source": [
    "# ⚠️ Common Mistake: Using a module without importing\n",
    "try:\n",
    "    print(sqrt(9))  # ❌ NameError\n",
    "except NameError:\n",
    "    print(\"Error: You must import the module first!\")\n",
    "\n",
    "# Correct way\n",
    "from math import sqrt\n",
    "print(\"Fixed:\", sqrt(9))"
   ]
  }
 ],
 "metadata": {
  "language_info": {
   "name": "python"
  }
 },
 "nbformat": 4,
 "nbformat_minor": 5
}
