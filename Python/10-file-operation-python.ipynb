{
 "cells": [
  {
   "cell_type": "markdown",
   "id": "4ac90fb7",
   "metadata": {},
   "source": [
    "# 🎬 Video Outline: File Operations in Python\n",
    "\n",
    "## 📌 Topics Covered:\n",
    "1. What is File Handling?\n",
    "2. Why is it Important in Real Projects?\n",
    "3. Opening and Closing Files\n",
    "4. Reading from Files\n",
    "5. Writing and Appending to Files\n",
    "6. File Modes Explained (`r`, `w`, `a`, `rb`, `wb`)\n",
    "7. Using `with` Statement (Context Manager)\n",
    "8. Handling File Exceptions\n",
    "9. Working with CSV Files (Basic)\n",
    "10. Best Practices for File I/O\n",
    "11. Common Mistakes and Debugging Tips"
   ]
  },
  {
   "cell_type": "code",
   "execution_count": null,
   "id": "1d94c557",
   "metadata": {},
   "outputs": [],
   "source": [
    "# 📘 What is File Handling?\n",
    "# File handling means reading or writing data to a file using Python.\n",
    "# It is very useful for data logging, model saving, or handling config/data files.\n",
    "\n",
    "# ✅ Opening a File\n",
    "file = open(\"demo.txt\", \"w\")  # 'w' means write mode\n",
    "file.write(\"Hello, Harsh!\\n\")\n",
    "file.write(\"Welcome to AI course.\")\n",
    "file.close()  # Always close the file to free up resources"
   ]
  },
  {
   "cell_type": "code",
   "execution_count": null,
   "id": "e84a7da6",
   "metadata": {},
   "outputs": [],
   "source": [
    "# ✅ Reading from a File\n",
    "file = open(\"demo.txt\", \"r\")  # 'r' means read mode\n",
    "content = file.read()\n",
    "print(\"File Content:\\n\", content)\n",
    "file.close()"
   ]
  },
  {
   "cell_type": "code",
   "execution_count": null,
   "id": "b8c8705f",
   "metadata": {},
   "outputs": [],
   "source": [
    "# ✅ Appending to a File\n",
    "file = open(\"demo.txt\", \"a\")  # 'a' means append mode\n",
    "file.write(\"\\nThis is an extra line.\")\n",
    "file.close()\n",
    "\n",
    "# Let's read again to see the update\n",
    "with open(\"demo.txt\", \"r\") as file:\n",
    "    print(\"Updated Content:\\n\", file.read())"
   ]
  },
  {
   "cell_type": "code",
   "execution_count": null,
   "id": "c2ffc7a6",
   "metadata": {},
   "outputs": [],
   "source": [
    "# ✅ Using `with` Statement (Best Practice)\n",
    "# This automatically handles file closing, even if error occurs.\n",
    "with open(\"demo.txt\", \"r\") as file:\n",
    "    for line in file:\n",
    "        print(\"Line:\", line.strip())"
   ]
  },
  {
   "cell_type": "code",
   "execution_count": null,
   "id": "c60817cd",
   "metadata": {},
   "outputs": [],
   "source": [
    "# ✅ Reading File Line by Line\n",
    "with open(\"demo.txt\", \"r\") as file:\n",
    "    lines = file.readlines()\n",
    "    print(\"Lines as List:\", lines)"
   ]
  },
  {
   "cell_type": "code",
   "execution_count": null,
   "id": "a1165fed",
   "metadata": {},
   "outputs": [],
   "source": [
    "# ✅ File Modes Summary\n",
    "\"\"\"\n",
    "'r'  = Read (default)\n",
    "'w'  = Write (creates new file or truncates)\n",
    "'a'  = Append (adds to end of file)\n",
    "'rb' = Read binary\n",
    "'wb' = Write binary\n",
    "\"\"\""
   ]
  },
  {
   "cell_type": "code",
   "execution_count": null,
   "id": "bd9cd153",
   "metadata": {},
   "outputs": [],
   "source": [
    "# ✅ Error Handling with Files\n",
    "try:\n",
    "    with open(\"not_exists.txt\", \"r\") as f:\n",
    "        print(f.read())\n",
    "except FileNotFoundError:\n",
    "    print(\"File does not exist!\")"
   ]
  },
  {
   "cell_type": "code",
   "execution_count": null,
   "id": "066c54a0",
   "metadata": {},
   "outputs": [],
   "source": [
    "# ✅ Writing to a CSV File (Basic)\n",
    "import csv\n",
    "\n",
    "with open(\"data.csv\", \"w\", newline=\"\") as csvfile:\n",
    "    writer = csv.writer(csvfile)\n",
    "    writer.writerow([\"Name\", \"Score\"])\n",
    "    writer.writerow([\"Harsh\", 98])\n",
    "    writer.writerow([\"Ankit\", 95])"
   ]
  },
  {
   "cell_type": "code",
   "execution_count": null,
   "id": "dc525769",
   "metadata": {},
   "outputs": [],
   "source": [
    "# ✅ Reading from CSV File\n",
    "with open(\"data.csv\", \"r\") as csvfile:\n",
    "    reader = csv.reader(csvfile)\n",
    "    for row in reader:\n",
    "        print(\"Row:\", row)"
   ]
  },
  {
   "cell_type": "code",
   "execution_count": null,
   "id": "80b43ffd",
   "metadata": {},
   "outputs": [],
   "source": [
    "# ⚠️ Common Mistakes:\n",
    "# 1. Not closing files → memory leaks\n",
    "# 2. Wrong mode ('r' when file doesn’t exist)\n",
    "# 3. Not handling encoding (for special characters)\n",
    "# 4. Using `read()` without checking file size (large files)\n",
    "# 5. Forgetting to handle exceptions (like FileNotFoundError)\n",
    "# ✅ Conclusion\n",
    "# File handling is essential for data persistence in Python.\n",
    "# Always ensure to handle files properly to avoid data loss or corruption.\n",
    "# Happy coding! 🎉"
   ]
  }
 ],
 "metadata": {
  "language_info": {
   "name": "python"
  }
 },
 "nbformat": 4,
 "nbformat_minor": 5
}
