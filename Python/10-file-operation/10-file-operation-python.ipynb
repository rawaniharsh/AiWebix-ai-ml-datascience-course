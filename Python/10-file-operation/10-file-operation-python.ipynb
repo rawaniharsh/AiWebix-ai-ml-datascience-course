{
 "cells": [
  {
   "cell_type": "markdown",
   "id": "4ac90fb7",
   "metadata": {},
   "source": [
    "# File Operations in Python\n",
    "\n",
    "## 📌 Topics Covered:\n",
    "1. What is File Handling?\n",
    "2. Why is it Important in Real Projects?\n",
    "3. Opening and Closing Files\n",
    "4. Reading from Files\n",
    "5. Writing and Appending to Files\n",
    "6. File Modes Explained (`r`, `w`, `a`, `rb`, `wb`)\n",
    "7. Using `with` Statement (Context Manager)\n",
    "8. Handling File Exceptions\n",
    "9. Working with CSV Files (Basic)\n",
    "10. Best Practices for File I/O\n",
    "11. Common Mistakes and Debugging Tips"
   ]
  },
  {
   "cell_type": "code",
   "execution_count": 1,
   "id": "1d94c557",
   "metadata": {},
   "outputs": [],
   "source": [
    "# 📘 What is File Handling?\n",
    "# File handling means reading or writing data to a file using Python.\n",
    "# It is very useful for data logging, model saving, or handling config/data files.\n",
    "\n",
    "# examples\n",
    "'''\n",
    "A video game saving your progress to a save.dat file\n",
    "a web browser storing your bookmarks and settings in a configuration file\n",
    "A data science application reading a million row dataset from a data.csv file to train a machine learning model\n",
    "\n",
    "File handling is the bridge between your running program and the computers storage\n",
    "'''\n",
    "\n",
    "# open()\n",
    "# 'w' mode which stands for write\n",
    "\n",
    "file = open(\"demo.txt\", \"w\")\n",
    "file.write(\"Hello, Everyone! How are you?\\n\")\n",
    "\n",
    "file.write(\"Welcome to the AI Course from AIWebix\")\n",
    "\n",
    "file.close() # always close the file to save changes and free up the resources"
   ]
  },
  {
   "cell_type": "code",
   "execution_count": 3,
   "id": "76baf30f",
   "metadata": {},
   "outputs": [
    {
     "name": "stdout",
     "output_type": "stream",
     "text": [
      "File Content:\n",
      " Hello, Everyone! How are you?\n",
      "Welcome to the AI Course from AIWebix\n"
     ]
    }
   ],
   "source": [
    "# r mode\n",
    "file = open('demo.txt', \"r\") # 'r' means read mode\n",
    "content = file.read()\n",
    "\n",
    "print(\"File Content:\\n\",content)"
   ]
  },
  {
   "cell_type": "code",
   "execution_count": 5,
   "id": "0fb33cce",
   "metadata": {},
   "outputs": [],
   "source": [
    "# appending to a file and the with statement\n",
    "\n",
    "# 'a' mode for append\n",
    "\n",
    "file = open(\"demo.txt\", \"a\")\n",
    "\n",
    "file.write(\"\\nThis is an extra line\")\n",
    "\n",
    "file.close()"
   ]
  },
  {
   "cell_type": "code",
   "execution_count": 7,
   "id": "2a87fea3",
   "metadata": {},
   "outputs": [
    {
     "name": "stdout",
     "output_type": "stream",
     "text": [
      "Hello, Everyone! How are you?\n",
      "Welcome to the AI Course from AIWebix\n",
      "This is an extra line\n",
      "This is an extra line\n"
     ]
    }
   ],
   "source": [
    "# with statement\n",
    "'''\n",
    "It ensures that resources are properly managed. When you open a file with it, python automatically closes the file for \n",
    "you when you are done, even if any error occur iside the block\n",
    "'''\n",
    "\n",
    "with open(\"demo.txt\", \"r\") as file:\n",
    "    for line in file:\n",
    "        print( line.strip())  #strip removes whitespaces "
   ]
  },
  {
   "cell_type": "code",
   "execution_count": 8,
   "id": "1a416fa0",
   "metadata": {},
   "outputs": [
    {
     "name": "stdout",
     "output_type": "stream",
     "text": [
      "['Hello, Everyone! How are you?\\n', 'Welcome to the AI Course from AIWebix\\n', ' This is an extra line\\n', 'This is an extra line']\n"
     ]
    }
   ],
   "source": [
    "with open(\"demo.txt\", \"r\") as file:\n",
    "    lines = file.readlines()\n",
    "    print(lines)"
   ]
  },
  {
   "cell_type": "code",
   "execution_count": 10,
   "id": "25ee1d88",
   "metadata": {},
   "outputs": [
    {
     "name": "stdout",
     "output_type": "stream",
     "text": [
      "Error: that file was not found\n"
     ]
    }
   ],
   "source": [
    "# handling file errrors\n",
    "\n",
    "try:\n",
    "   with open(\"demo_new.txt\", \"r\") as file:\n",
    "    lines = file.readlines()\n",
    "    print(lines)\n",
    "except FileNotFoundError as e:\n",
    "  print(\"Error: that file was not found\")"
   ]
  },
  {
   "cell_type": "code",
   "execution_count": 1,
   "id": "7a5bb0c5",
   "metadata": {},
   "outputs": [],
   "source": [
    "# working with csv files\n",
    "\n",
    "import csv\n",
    "\n",
    "# creating a csv file to store student record\n",
    "with open(\"data.csv\", \"w\", newline=\"\") as csvfile:\n",
    "    writer = csv.writer(csvfile)\n",
    "    writer.writerow([\"Name\", \"Score\"])\n",
    "    writer.writerow([\"Rahul\", 91])\n",
    "    writer.writerow([\"Akash\", 87])"
   ]
  },
  {
   "cell_type": "code",
   "execution_count": 2,
   "id": "2019d755",
   "metadata": {},
   "outputs": [
    {
     "name": "stdout",
     "output_type": "stream",
     "text": [
      "['Name', 'Score']\n",
      "['Rahul', '91']\n",
      "['Akash', '87']\n"
     ]
    }
   ],
   "source": [
    "# read that csv data back in our program\n",
    "import csv\n",
    "\n",
    "with open(\"data.csv\", \"r\") as csvfile:\n",
    "    reader = csv.reader(csvfile)\n",
    "    for row in reader:\n",
    "        print(row)"
   ]
  },
  {
   "cell_type": "code",
   "execution_count": null,
   "id": "80b43ffd",
   "metadata": {},
   "outputs": [],
   "source": [
    "# ⚠️ Common Mistakes:\n",
    "# 1. Not closing files → memory leaks\n",
    "# 2. Wrong mode ('r' when file doesn’t exist)\n",
    "# 3. Not handling encoding (for special characters)\n",
    "# 4. Using `read()` without checking file size (large files)\n",
    "# 5. Forgetting to handle exceptions (like FileNotFoundError)\n",
    "# ✅ Conclusion\n",
    "# File handling is essential for data persistence in Python.\n",
    "# Always ensure to handle files properly to avoid data loss or corruption.\n",
    "# Happy coding! 🎉"
   ]
  }
 ],
 "metadata": {
  "kernelspec": {
   "display_name": "Python 3",
   "language": "python",
   "name": "python3"
  },
  "language_info": {
   "codemirror_mode": {
    "name": "ipython",
    "version": 3
   },
   "file_extension": ".py",
   "mimetype": "text/x-python",
   "name": "python",
   "nbconvert_exporter": "python",
   "pygments_lexer": "ipython3",
   "version": "3.13.5"
  }
 },
 "nbformat": 4,
 "nbformat_minor": 5
}
