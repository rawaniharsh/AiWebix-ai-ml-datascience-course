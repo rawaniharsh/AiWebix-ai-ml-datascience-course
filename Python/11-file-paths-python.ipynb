{
 "cells": [
  {
   "cell_type": "markdown",
   "id": "26df9153",
   "metadata": {},
   "source": [
    "# Working with File Paths in Python\n",
    "\n",
    "## 📌 Topics Covered:\n",
    "1. Why are File Paths Important?\n",
    "2. Absolute vs Relative Paths\n",
    "3. The `os` Module Basics\n",
    "4. Getting the Current Working Directory\n",
    "5. Creating & Navigating Folders (`os.mkdir`, `os.chdir`)\n",
    "6. Checking File/Folder Existence\n",
    "7. Building Platform-Independent Paths using `os.path.join`\n",
    "8. Listing Files in a Directory\n",
    "9. Introduction to `pathlib` (Modern Way)\n",
    "10. Handling Paths in Real Projects\n",
    "11. Common Errors and Debugging Tips"
   ]
  },
  {
   "cell_type": "code",
   "execution_count": null,
   "id": "7374729a",
   "metadata": {},
   "outputs": [],
   "source": [
    "# 📘 Lesson: Working with File Paths in Python\n",
    "\n",
    "# ✅ Why are file paths important?\n",
    "# File paths tell Python where to find and store files such as text files, CSVs, images, and more.\n",
    "# In real projects, you'll deal with many files (datasets, models, configs) — knowing how to manage paths avoids errors.\n",
    "\n",
    "# absolute path\n",
    "'''\n",
    "An abolute path is the full address of a file or folder starting from root of the file system.\n",
    "\n",
    "On window - it starts with a drive letter, like 'C:\\Users\\Harsh\\Documents'\n",
    "On macos or linux - it starts with a /, like '/Users/Harsh/Document'\n",
    "'''\n",
    "\n",
    "# relative path\n",
    "\n",
    "'''\n",
    "A relative path is a path that starts from your current working directory where your current program is running. \n",
    "'''"
   ]
  },
  {
   "cell_type": "code",
   "execution_count": null,
   "id": "412f7d00",
   "metadata": {},
   "outputs": [
    {
     "name": "stdout",
     "output_type": "stream",
     "text": [
      "/Users/harsh/Documents/Work/AiWebix/AiWebix-ai-ml-datascience-course/Python\n"
     ]
    }
   ],
   "source": [
    "# to work with paths we use built in os module\n",
    "\n",
    "import os\n",
    "\n",
    "# get current working directory\n",
    "\n",
    "print(os.getcwd())"
   ]
  },
  {
   "cell_type": "code",
   "execution_count": 3,
   "id": "0aa09176",
   "metadata": {},
   "outputs": [
    {
     "name": "stdout",
     "output_type": "stream",
     "text": [
      "demo_folder created.\n"
     ]
    }
   ],
   "source": [
    "# we are creating a folder if it doesn't exist\n",
    "\n",
    "folder_name = \"demo_folder\"\n",
    "\n",
    "if not os.path.exists(folder_name):\n",
    "    os.mkdir(folder_name)\n",
    "    print(f\"{folder_name} created.\")\n",
    "else:\n",
    "    print(f\"{folder_name} already exist.\")"
   ]
  },
  {
   "cell_type": "code",
   "execution_count": 4,
   "id": "04cef0be",
   "metadata": {},
   "outputs": [
    {
     "name": "stdout",
     "output_type": "stream",
     "text": [
      "Path using os.path.join: my_folder/sub_folder/file.txt\n"
     ]
    }
   ],
   "source": [
    "# golden rule to create platform independent path\n",
    "# windows - \\ and macos/linux - /\n",
    "\n",
    "'''\n",
    "data\\\\my_file.csv\n",
    "\n",
    "always use like below\n",
    "\n",
    "os.path.join()\n",
    "'''\n",
    "\n",
    "# joining paths (platform independent)\n",
    "\n",
    "file_path = os.path.join(\"my_folder\", \"sub_folder\", \"file.txt\")\n",
    "\n",
    "print(\"Path using os.path.join:\", file_path)"
   ]
  },
  {
   "cell_type": "code",
   "execution_count": 8,
   "id": "ceca4bde",
   "metadata": {},
   "outputs": [
    {
     "name": "stdout",
     "output_type": "stream",
     "text": [
      "Joined path: /Users/harsh/Documents/Work/AiWebix/AiWebix-ai-ml-datascience-course/Python/data/info.txt\n",
      "File name: info.txt\n",
      "Parent folder:  /Users/harsh/Documents/Work/AiWebix/AiWebix-ai-ml-datascience-course/Python/data\n"
     ]
    }
   ],
   "source": [
    "# pathlib module\n",
    "'''\n",
    "It treats paths as objects, not just strings\n",
    "'''\n",
    "\n",
    "from pathlib import Path\n",
    "\n",
    "# getting the current directory\n",
    "# print(Path.cwd())\n",
    "\n",
    "# joining paths with Path objects using / operator\n",
    "\n",
    "new_path = Path.cwd() / \"data\" / \"info.txt\"\n",
    "\n",
    "print(\"Joined path:\", new_path)\n",
    "\n",
    "print(\"File name:\", new_path.name)\n",
    "print(\"Parent folder: \", new_path.parent)"
   ]
  },
  {
   "cell_type": "code",
   "execution_count": null,
   "id": "6f213988",
   "metadata": {},
   "outputs": [],
   "source": [
    "# ⚠️ Common Mistakes to Avoid\n",
    "# 1. Using backslashes \\ in Windows without raw string (e.g., \"C:\\\\Users\")\n",
    "# 2. Forgetting to check if a file exists before reading\n",
    "# 3. Changing working directory and not reverting it\n",
    "# 4. Hardcoding paths instead of using os.path.join\n",
    "# 5. Assuming the same folder structure across systems (bad for portability)"
   ]
  }
 ],
 "metadata": {
  "kernelspec": {
   "display_name": "Python 3",
   "language": "python",
   "name": "python3"
  },
  "language_info": {
   "codemirror_mode": {
    "name": "ipython",
    "version": 3
   },
   "file_extension": ".py",
   "mimetype": "text/x-python",
   "name": "python",
   "nbconvert_exporter": "python",
   "pygments_lexer": "ipython3",
   "version": "3.13.5"
  }
 },
 "nbformat": 4,
 "nbformat_minor": 5
}
