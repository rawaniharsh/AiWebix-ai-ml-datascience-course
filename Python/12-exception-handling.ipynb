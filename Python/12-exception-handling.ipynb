{
 "cells": [
  {
   "cell_type": "markdown",
   "id": "74881d00",
   "metadata": {},
   "source": [
    "# 🧨 Lesson: Exception Handling in Python\n",
    "\n",
    "### ✅ What is an Exception?\n",
    "### An exception is a runtime error that you can handle.\n",
    "### It allows your program to keep running instead of crashing."
   ]
  },
  {
   "cell_type": "code",
   "execution_count": null,
   "id": "d20428a9",
   "metadata": {},
   "outputs": [],
   "source": [
    "\n",
    "# ✅ try-except block\n",
    "# Real-world Example: A user tries to divide a number by 0.\n",
    "try:\n",
    "    result = 100 / 0\n",
    "except ZeroDivisionError:\n",
    "    print(\"❌ You can't divide by zero. Please check your input.\")"
   ]
  },
  {
   "cell_type": "code",
   "execution_count": null,
   "id": "e81b3ba5",
   "metadata": {},
   "outputs": [],
   "source": [
    "# ✅ Handling Multiple Exceptions\n",
    "# Real-world Example: You try to read a file and also perform division\n",
    "\n",
    "try:\n",
    "    f = open(\"notfound.txt\")  # File does not exist\n",
    "    data = 10 / 0             # Won't execute because file open failed\n",
    "except FileNotFoundError:\n",
    "    print(\"📁 The file was not found.\")\n",
    "except ZeroDivisionError:\n",
    "    print(\"🚫 Cannot divide by zero.\")"
   ]
  },
  {
   "cell_type": "code",
   "execution_count": null,
   "id": "a65ed5c7",
   "metadata": {},
   "outputs": [],
   "source": [
    "# ✅ Using else with try-except\n",
    "# Else runs only if there is no error\n",
    "\n",
    "try:\n",
    "    x = 5\n",
    "    y = 2\n",
    "    print(\"Division Result:\", x / y)\n",
    "except ZeroDivisionError:\n",
    "    print(\"⚠️ Cannot divide by zero!\")\n",
    "else:\n",
    "    print(\"✅ Division successful without errors.\")\n"
   ]
  },
  {
   "cell_type": "code",
   "execution_count": null,
   "id": "b98c2bf0",
   "metadata": {},
   "outputs": [],
   "source": [
    "# ✅ finally block\n",
    "# This always runs — whether or not an exception occurred\n",
    "# Useful for cleaning up resources (like closing a file or DB connection)\n",
    "\n",
    "try:\n",
    "    print(\"Processing some task...\")\n",
    "    value = 10 / 0\n",
    "except:\n",
    "    print(\"Error occurred!\")\n",
    "finally:\n",
    "    print(\"🔚 This will always run — cleanup complete.\")"
   ]
  },
  {
   "cell_type": "code",
   "execution_count": null,
   "id": "25a4462c",
   "metadata": {},
   "outputs": [],
   "source": [
    "# ✅ Raising a Custom Exception using raise\n",
    "# Real-world Example: Bank app — withdrawing more than available balance\n",
    "\n",
    "balance = 5000\n",
    "withdraw = 6000\n",
    "\n",
    "if withdraw > balance:\n",
    "    raise Exception(\"💸 Insufficient balance for this transaction.\")"
   ]
  },
  {
   "cell_type": "code",
   "execution_count": null,
   "id": "81992b1c",
   "metadata": {},
   "outputs": [],
   "source": [
    "# ✅ Creating a Custom Exception Class\n",
    "# Real-world Example: Student score system where negative marks aren't allowed\n",
    "\n",
    "class NegativeMarkError(Exception):\n",
    "    \"\"\"Custom exception for negative marks\"\"\"\n",
    "    pass\n",
    "\n",
    "def check_marks(marks):\n",
    "    if marks < 0:\n",
    "        raise NegativeMarkError(\"Marks cannot be negative.\")\n",
    "    else:\n",
    "        print(\"Marks entered:\", marks)\n",
    "\n",
    "# Test the function\n",
    "check_marks(90)\n",
    "check_marks(-10)  # This will raise the custom exception"
   ]
  }
 ],
 "metadata": {
  "language_info": {
   "name": "python"
  }
 },
 "nbformat": 4,
 "nbformat_minor": 5
}
