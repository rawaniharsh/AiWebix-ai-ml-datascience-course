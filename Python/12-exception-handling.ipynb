{
 "cells": [
  {
   "cell_type": "markdown",
   "id": "74881d00",
   "metadata": {},
   "source": [
    "# Lesson: Exception Handling in Python\n",
    "\n",
    "### ✅ What is an Exception?\n",
    "### An exception is a runtime error that you can handle.\n",
    "### It allows your program to keep running instead of crashing."
   ]
  },
  {
   "cell_type": "code",
   "execution_count": 4,
   "id": "29d0f999",
   "metadata": {},
   "outputs": [
    {
     "name": "stdout",
     "output_type": "stream",
     "text": [
      "Please check the file. The file is not found!\n"
     ]
    }
   ],
   "source": [
    "# try ... except block\n",
    "\n",
    "# Python will try to run a block of code. If an error occurs, it will skip to the except block to handle it\n",
    "\n",
    "try:\n",
    "    f = open(\"demo.txt\")\n",
    "    result = 100.0\n",
    "except ZeroDivisionError:\n",
    "    print(\"You can't divide a number by zero. Please check your input!\")\n",
    "except FileNotFoundError:\n",
    "    print(\"Please check the file. The file is not found!\")\n"
   ]
  },
  {
   "cell_type": "code",
   "execution_count": null,
   "id": "715a73fa",
   "metadata": {},
   "outputs": [
    {
     "name": "stdout",
     "output_type": "stream",
     "text": [
      "Division reuslt: 2.0\n",
      "Division successful without errors.\n"
     ]
    }
   ],
   "source": [
    "# else and finally clause\n",
    "# using else with try-except\n",
    "\n",
    "try: \n",
    "    x = 10\n",
    "    y = 5\n",
    "    print(\"Division reuslt:\", x/y)\n",
    "except ZeroDivisionError:\n",
    "    print(\"Cannot divide by zero\")\n",
    "else:\n",
    "    print(\"Division successful without errors.\")"
   ]
  },
  {
   "cell_type": "code",
   "execution_count": 7,
   "id": "7d9dc77a",
   "metadata": {},
   "outputs": [
    {
     "name": "stdout",
     "output_type": "stream",
     "text": [
      "Error: only write strings in a text file\n",
      "File is now closed\n"
     ]
    }
   ],
   "source": [
    "# finally block\n",
    "# code in the finally block will always run, no matter whether an exception occurrd or not\n",
    "\n",
    "try:\n",
    "    f = open(\"demo.txt\", \"w\")\n",
    "    f.write(\"This is a new line\")\n",
    "    f.write(1234)\n",
    "except TypeError:\n",
    "    print(\"Error: only write strings in a text file\")\n",
    "else:\n",
    "    print(\"We can use the file in our program\")\n",
    "finally: \n",
    "    f.close()\n",
    "    print(\"File is now closed\")"
   ]
  },
  {
   "cell_type": "code",
   "execution_count": 9,
   "id": "0860b336",
   "metadata": {},
   "outputs": [
    {
     "name": "stdout",
     "output_type": "stream",
     "text": [
      "Withdraw amount is more than balance\n",
      "Transaction successful\n"
     ]
    }
   ],
   "source": [
    "# \"raise\" keyword\n",
    "\n",
    "balance = 2000\n",
    "\n",
    "withdraw_amount = 5000\n",
    "\n",
    "try:\n",
    "    if withdraw_amount>balance:\n",
    "        raise ValueError(\"Insufficient balance for this transaction\")\n",
    "except ValueError:\n",
    "    print(\"Withdraw amount is more than balance\")\n",
    "\n",
    "print(\"Transaction successful\")"
   ]
  },
  {
   "cell_type": "code",
   "execution_count": 11,
   "id": "8b781e42",
   "metadata": {},
   "outputs": [
    {
     "name": "stdout",
     "output_type": "stream",
     "text": [
      "Score of 96 submitted sucessfully\n",
      "Error: Score is negative. Please fix this\n"
     ]
    }
   ],
   "source": [
    "# create custom exception classes - we can define our own unique exception types similar as ValueError and TypeError\n",
    "\n",
    "class NegativeScoreError(Exception):\n",
    "    \"\"\"Custom exception for when a score is negative\"\"\"\n",
    "    pass\n",
    "\n",
    "def submit_score(score):\n",
    "    if score<0:\n",
    "        raise NegativeScoreError(\"Score is negative. Please fix this\")\n",
    "    print(f\"Score of {score} submitted sucessfully\")\n",
    "\n",
    "try:\n",
    "    submit_score(96)\n",
    "    submit_score(-12)\n",
    "\n",
    "except NegativeScoreError as e:\n",
    "    print(f\"Error: {e}\")"
   ]
  }
 ],
 "metadata": {
  "kernelspec": {
   "display_name": "Python 3",
   "language": "python",
   "name": "python3"
  },
  "language_info": {
   "codemirror_mode": {
    "name": "ipython",
    "version": 3
   },
   "file_extension": ".py",
   "mimetype": "text/x-python",
   "name": "python",
   "nbconvert_exporter": "python",
   "pygments_lexer": "ipython3",
   "version": "3.13.5"
  }
 },
 "nbformat": 4,
 "nbformat_minor": 5
}
