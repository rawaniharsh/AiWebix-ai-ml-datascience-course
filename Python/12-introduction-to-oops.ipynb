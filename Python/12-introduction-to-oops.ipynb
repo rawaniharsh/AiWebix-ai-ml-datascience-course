{
 "cells": [
  {
   "cell_type": "markdown",
   "id": "efca788f",
   "metadata": {
    "vscode": {
     "languageId": "plaintext"
    }
   },
   "source": [
    "## 🧱 INTRODUCTION TO OBJECT-ORIENTED PROGRAMMING (OOP)"
   ]
  },
  {
   "cell_type": "code",
   "execution_count": null,
   "id": "5d07aedd",
   "metadata": {},
   "outputs": [],
   "source": [
    "\n",
    "# ✅ What is OOP?\n",
    "# Object-Oriented Programming (OOP) is a way of writing code where we model real-life things (like phones, students, or cars) as 'objects'.\n",
    "# These objects are created using 'classes', which are like blueprints.\n",
    "# Each object has:\n",
    "# - Data (called attributes)\n",
    "# - Functions (called methods)\n",
    "\n",
    "# ✅ Why OOP?\n",
    "# - Makes code clean and organized\n",
    "# - Easy to reuse using inheritance\n",
    "# - Useful for building large projects (web apps, AI, games, etc.)\n",
    "# - Makes real-world modeling easy\n",
    "\n",
    "# ✅ OOP vs Procedural Programming\n",
    "# In procedural programming, code runs step by step in a linear manner.\n",
    "# In OOP, we group data and related actions together in classes and objects.\n",
    "\n",
    "# ✅ Important Terms:\n",
    "# - Class: A design or blueprint (like 'Phone')\n",
    "# - Object: A real item made using the class (like phone1, phone2)\n",
    "# - Attribute: Data of the object (like brand, model, price)\n",
    "# - Method: Action that object can do (like make_call)\n",
    "# - Constructor: Special method called __init__() that runs when object is created\n",
    "\n",
    "# ✅ Example: Phone Class\n",
    "\n",
    "class Phone:\n",
    "    def __init__(self, brand, model, price):\n",
    "        # These are the attributes (data members)\n",
    "        self.brand = brand\n",
    "        self.model = model\n",
    "        self.price = price\n",
    "\n",
    "    def show_details(self):\n",
    "        # This method displays phone information\n",
    "        print(f\"📱 Brand: {self.brand}, Model: {self.model}, Price: ₹{self.price}\")\n",
    "\n",
    "    def make_call(self, number):\n",
    "        # This method simulates making a call\n",
    "        print(f\"📞 Calling {number} from {self.brand} {self.model}...\")\n",
    "\n",
    "    def send_message(self, number, message):\n",
    "        # This method simulates sending a message\n",
    "        print(f\"💬 Message to {number}: \\\"{message}\\\" from {self.model}\")\n",
    "\n",
    "# ✅ Creating Objects (Real phones)\n",
    "\n",
    "phone1 = Phone(\"Samsung\", \"Galaxy M13\", 13999)\n",
    "phone2 = Phone(\"Apple\", \"iPhone 13\", 69999)\n",
    "phone3 = Phone(\"OnePlus\", \"Nord CE 3\", 24999)\n",
    "\n",
    "# ✅ Using methods on objects\n",
    "\n",
    "phone1.show_details()\n",
    "phone1.make_call(\"9876543210\")\n",
    "phone1.send_message(\"9876543210\", \"Hello from Harsh!\")\n",
    "\n",
    "phone2.show_details()\n",
    "phone2.make_call(\"9822012345\")\n",
    "phone2.send_message(\"9822012345\", \"Using my iPhone to say hi!\")\n",
    "\n",
    "phone3.show_details()\n",
    "phone3.make_call(\"9934109876\")\n",
    "phone3.send_message(\"9934109876\", \"Message from OnePlus user.\")\n",
    "\n",
    "# ✅ Where OOP is used in real life:\n",
    "# - AI and Machine Learning models are created as objects\n",
    "# - Data pipelines use class-based design\n",
    "# - Web development (like Django, Flask)\n",
    "# - Apps, games, and even operating systems\n",
    "\n",
    "# ✅ Summary:\n",
    "# - OOP is powerful and helps you build real-world systems in code\n",
    "# - You now understand how to create a class, object, methods, and use them"
   ]
  }
 ],
 "metadata": {
  "language_info": {
   "name": "python"
  }
 },
 "nbformat": 4,
 "nbformat_minor": 5
}
