{
 "cells": [
  {
   "cell_type": "markdown",
   "id": "efca788f",
   "metadata": {
    "vscode": {
     "languageId": "plaintext"
    }
   },
   "source": [
    "## 🧱 INTRODUCTION TO OBJECT-ORIENTED PROGRAMMING (OOP)"
   ]
  },
  {
   "cell_type": "code",
   "execution_count": null,
   "id": "5d07aedd",
   "metadata": {},
   "outputs": [],
   "source": [
    "\n",
    "# ✅ What is OOP?\n",
    "# Object-Oriented Programming (OOP) is a way of writing code where we model real-life things (like phones, students, or cars) as 'objects'.\n",
    "# These objects are created using 'classes', which are like blueprints.\n",
    "# Each object has:\n",
    "# - Data (called attributes)\n",
    "# - Functions (called methods)\n",
    "\n",
    "# ✅ Why OOP?\n",
    "# - Makes code clean and organized\n",
    "# - Easy to reuse using inheritance\n",
    "# - Useful for building large projects (web apps, AI, games, etc.)\n",
    "# - Makes real-world modeling easy\n",
    "\n",
    "# ✅ OOP vs Procedural Programming\n",
    "# In procedural programming, code runs step by step in a linear manner.\n",
    "# In OOP, we group data and related actions together in classes and objects.\n",
    "\n",
    "# ✅ Important Terms:\n",
    "# - Class: A design or blueprint (like 'Phone')\n",
    "# - Object: A real item made using the class (like phone1, phone2)\n",
    "# - Attribute: Data of the object (like brand, model, price)\n",
    "# - Method: Action that object can do (like make_call)\n",
    "# - Constructor: Special method called __init__() that runs when object is created"
   ]
  },
  {
   "cell_type": "code",
   "execution_count": 1,
   "id": "10071d58",
   "metadata": {},
   "outputs": [],
   "source": [
    "class Phone:\n",
    "    \"__init__ it stands for initalise\"\n",
    "    def __init__(self, brand, model, price):\n",
    "        self.brand = brand\n",
    "        self.model = model\n",
    "        self.price = price\n",
    "\n",
    "    def show_details(self):\n",
    "        print(f\"Brand: {self.brand}, Model: {self.model}, Price: {self.price}\")\n",
    "\n",
    "    def make_call(self, number):\n",
    "        print(f\"Calling {number} from {self.brand}\")"
   ]
  },
  {
   "cell_type": "code",
   "execution_count": 3,
   "id": "c234303e",
   "metadata": {},
   "outputs": [
    {
     "name": "stdout",
     "output_type": "stream",
     "text": [
      "Brand: MI, Model: Note2, Price: 10000\n",
      "Calling 9891827981 from MI\n",
      "--------------------\n",
      "Brand: Samsung, Model: Galaxy, Price: 20000\n",
      "Calling 38121827112 from Samsung\n"
     ]
    }
   ],
   "source": [
    "# creating objects (Instances of the phone class)\n",
    "\n",
    "my_phone = Phone(\"Samsung\", \"Galaxy\", 20000)\n",
    "rahul_phone = Phone(\"Iphone\", \"12\", 24000)\n",
    "phone3 = Phone(\"MI\", \"Note2\", 10000)\n",
    "\n",
    "# using methods on our objects\n",
    "\n",
    "phone3.show_details()\n",
    "phone3.make_call(9891827981)\n",
    "\n",
    "print(\"-\"*20)\n",
    "\n",
    "my_phone.show_details()\n",
    "my_phone.make_call(38121827112)"
   ]
  },
  {
   "cell_type": "code",
   "execution_count": null,
   "id": "9cd4d285",
   "metadata": {},
   "outputs": [],
   "source": [
    "# ✅ Where OOP is used in real life:\n",
    "# - AI and Machine Learning models are created as objects\n",
    "# - Data pipelines use class-based design\n",
    "# - Web development (like Django, Flask)\n",
    "# - Apps, games, and even operating systems\n",
    "\n",
    "# ✅ Summary:\n",
    "# - OOP is powerful and helps you build real-world systems in code\n",
    "# - You now understand how to create a class, object, methods, and use them"
   ]
  }
 ],
 "metadata": {
  "kernelspec": {
   "display_name": "Python 3",
   "language": "python",
   "name": "python3"
  },
  "language_info": {
   "codemirror_mode": {
    "name": "ipython",
    "version": 3
   },
   "file_extension": ".py",
   "mimetype": "text/x-python",
   "name": "python",
   "nbconvert_exporter": "python",
   "pygments_lexer": "ipython3",
   "version": "3.13.5"
  }
 },
 "nbformat": 4,
 "nbformat_minor": 5
}
