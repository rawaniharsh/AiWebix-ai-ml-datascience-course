{
 "cells": [
  {
   "cell_type": "code",
   "execution_count": null,
   "id": "c6c2b343",
   "metadata": {},
   "outputs": [],
   "source": [
    "# ENCAPSULATION IN PYTHON\n",
    "\n",
    "# ✅ What is Encapsulation?\n",
    "# Encapsulation means binding data (variables) and code (functions/methods) together in one place (a class).\n",
    "# It also hides sensitive parts of the data so they can't be changed or accessed directly.\n",
    "# This improves security, code clarity, and reliability.\n",
    "\n",
    "# 💡 Real-world example:\n",
    "# Think of a pressure cooker:\n",
    "# - You can control it using buttons (methods)\n",
    "# - But you can't touch the pressure system directly (private data)\n",
    "# - Same way, in programming, we allow access to data only through methods\n",
    "\n",
    "# ✅ In Python, we use:\n",
    "# - _var    = protected (can be accessed but not recommended)\n",
    "# - __var   = private (name mangled, not directly accessible)"
   ]
  },
  {
   "cell_type": "markdown",
   "id": "d4b8919b",
   "metadata": {},
   "source": [
    "Encapsulation is a key concept of Object-Oriented Programming (OOP).  \n",
    "It means **hiding internal object data** and allowing access to it only via **public methods**.  \n",
    "This makes your program more **secure**, **maintainable**, and **clean**.\n",
    "\n",
    "> 🔒 Example: Like a mobile phone — you press buttons to use it, but cannot directly access the internal circuit."
   ]
  },
  {
   "cell_type": "code",
   "execution_count": null,
   "id": "5ed25303",
   "metadata": {},
   "outputs": [
    {
     "name": "stdout",
     "output_type": "stream",
     "text": [
      "Initial Balance: Rs.20000\n",
      "Completely broken balance: This is not a number!\n"
     ]
    }
   ],
   "source": [
    "# a simple class\n",
    "class PoorAccount:\n",
    "    def __init__(self, balance):\n",
    "        self.balance = balance  # public attribute\n",
    "\n",
    "# let's see the problem\n",
    "\n",
    "user_account = PoorAccount(20000)\n",
    "print(f\"Initial Balance: Rs.{user_account.balance}\")\n",
    "\n",
    "# the problem: anyone can corrupt the data\n",
    "user_account.balance = - 50000 # unrealistic\n",
    "\n",
    "user_account.balance = \"This is not a number!\" # even worse\n",
    "print(f\"Completely broken balance: {user_account.balance}\")\n"
   ]
  },
  {
   "cell_type": "code",
   "execution_count": null,
   "id": "4d909aca",
   "metadata": {},
   "outputs": [],
   "source": [
    "# how python hides data\n",
    "'''\n",
    "Naming conventions:\n",
    "\n",
    "variable(public)\n",
    "\n",
    "_variable(protected) - single underscore tells that you are not supposed to touch this directly.\n",
    "\n",
    "__variable(Private) - double underscore tell you can't access it from outside\n",
    "'''\n",
    "\n"
   ]
  },
  {
   "cell_type": "code",
   "execution_count": 11,
   "id": "f1632760",
   "metadata": {},
   "outputs": [],
   "source": [
    "class BankAccount:\n",
    "    def __init__(self, account_holder, balance):\n",
    "        self.account_holder = account_holder\n",
    "        self.__balance = balance\n",
    "\n",
    "    def deposit(self, amount):\n",
    "        if amount > 0:\n",
    "            self.__balance += amount\n",
    "            print(f\"Rs. {amount} deposited. New balance: Rs. {self.__balance}\")\n",
    "        else:\n",
    "            print(\"Invalid deposit amount\")\n",
    "    \n",
    "    def withdraw(self, amount):\n",
    "        if 0 < amount <= self.__balance:\n",
    "            self.__balance -= amount\n",
    "            print(f\"Rs. {amount} withdrawn. Remaining balance: Rs. {self.__balance}\")\n",
    "        else:\n",
    "            print(f\"Insufficient balance or invalid amount\")\n",
    "\n",
    "    def get_balance(self):\n",
    "        # it provides safe, read-only access\n",
    "        # this is a getter method\n",
    "        print(f\"Current balance: Rs. {self.__balance}\")\n",
    "        # return self.__balance"
   ]
  },
  {
   "cell_type": "code",
   "execution_count": 12,
   "id": "ef674dde",
   "metadata": {},
   "outputs": [
    {
     "name": "stdout",
     "output_type": "stream",
     "text": [
      "Rs. 50000 deposited. New balance: Rs. 80000\n",
      "Insufficient balance or invalid amount\n",
      "Rs. 40000 withdrawn. Remaining balance: Rs. 40000\n",
      "Current balance: Rs. 40000\n"
     ]
    }
   ],
   "source": [
    "harshAccount = BankAccount(\"Harsh\", 30000)\n",
    "\n",
    "# we use safe public method\n",
    "harshAccount.deposit(50000)\n",
    "harshAccount.withdraw(400000) # this will fail with a safe message\n",
    "harshAccount.withdraw(40000)\n",
    "\n",
    "# lets try to access the private balance directly\n",
    "# print(harshAccount.__balance)\n",
    "\n",
    "harshAccount.get_balance()\n"
   ]
  },
  {
   "cell_type": "code",
   "execution_count": 14,
   "id": "dd59102b",
   "metadata": {},
   "outputs": [
    {
     "name": "stdout",
     "output_type": "stream",
     "text": [
      "Priya grade has been set to B\n",
      "Priya grade has been set to C\n"
     ]
    },
    {
     "data": {
      "text/plain": [
       "'C'"
      ]
     },
     "execution_count": 14,
     "metadata": {},
     "output_type": "execute_result"
    }
   ],
   "source": [
    "# getters and setters\n",
    "\n",
    "# setter method sets or modifies the value\n",
    "# getter methods gets or retrieves the value\n",
    "\n",
    "class Student:\n",
    "    def __init__(self, name):\n",
    "        self.name = name\n",
    "        self.__grade = None # private grade\n",
    "    \n",
    "    # this is a setter method\n",
    "    def set_grade(self, grade):\n",
    "        if grade in [\"A\", \"B\", \"C\", \"D\"]:\n",
    "            self.__grade = grade\n",
    "            print(f\"{self.name} grade has been set to {self.__grade}\")\n",
    "\n",
    "        else:\n",
    "            print(f\"Invalid grade. Please use A, B, C, D\")\n",
    "    \n",
    "    # this is a getter method\n",
    "    def get_grade(self):\n",
    "        return self.__grade\n",
    "    \n",
    "\n",
    "student1 = Student(\"Priya\")\n",
    "student1.set_grade(\"B\")\n",
    "student1.set_grade(\"C\") # this will be rejected by the setter\n",
    "\n",
    "student1.get_grade()"
   ]
  }
 ],
 "metadata": {
  "kernelspec": {
   "display_name": "Python 3",
   "language": "python",
   "name": "python3"
  },
  "language_info": {
   "codemirror_mode": {
    "name": "ipython",
    "version": 3
   },
   "file_extension": ".py",
   "mimetype": "text/x-python",
   "name": "python",
   "nbconvert_exporter": "python",
   "pygments_lexer": "ipython3",
   "version": "3.13.5"
  }
 },
 "nbformat": 4,
 "nbformat_minor": 5
}
