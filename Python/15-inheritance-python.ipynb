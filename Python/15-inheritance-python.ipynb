{
 "cells": [
  {
   "cell_type": "markdown",
   "id": "cb050981",
   "metadata": {
    "vscode": {
     "languageId": "plaintext"
    }
   },
   "source": [
    "# 🧬 Lesson: Inheritance in Python\n",
    "\n",
    "---\n",
    "\n",
    "## 🔍 What is Inheritance?\n",
    "\n",
    "Inheritance is a feature in object-oriented programming that allows a **child class** to inherit methods and properties from a **parent class**. It promotes **code reusability**, **clean structure**, and **easy maintenance**.\n",
    "\n",
    "---\n",
    "\n",
    "## 📦 Real-World Example\n",
    "\n",
    "Imagine you are building software for an **e-commerce platform**:\n",
    "\n",
    "- `User`: A base class with common properties like name and email.\n",
    "- `Customer(User)`: A child class that adds address, cart, etc.\n",
    "- `Admin(User)`: Another child class that can manage users/products.\n",
    "\n",
    "You don't have to write the code for name/email again — just **inherit** it.\n",
    "\n",
    "---\n",
    "\n",
    "## ✅ Why Use Inheritance?\n",
    "\n",
    "- 🔁 **Code Reusability** – No need to rewrite shared logic.\n",
    "- 🧱 **Extend Existing Code** – Add more functionality without touching base class.\n",
    "- 🛠️ **Maintainability** – If the logic changes in the parent, child gets updated too.\n",
    "\n",
    "---\n",
    "\n",
    "## 🏗️ Types of Inheritance in Python\n",
    "\n",
    "| Type           | Description                                       |\n",
    "|----------------|---------------------------------------------------|\n",
    "| Single         | One child inherits from one parent                |\n",
    "| Multiple       | One child inherits from multiple parents          |\n",
    "| Multilevel     | Chain: Child → Parent → Grandparent               |\n",
    "| Hierarchical   | Multiple children inherit from one parent         |\n",
    "\n",
    "---\n",
    "\n",
    "## 🔑 Keywords\n",
    "\n",
    "- `super()` – Used to call the parent class's methods or constructor.\n",
    "- Method Overriding – When the child class defines a method with the **same name** as the parent, it overrides the parent’s version.\n",
    "\n",
    "---\n",
    "\n",
    "## ⚠️ Common Mistakes\n",
    "\n",
    "- Forgetting to use `super()` when needed.\n",
    "- Accidentally overriding methods you didn’t mean to.\n",
    "- Overusing inheritance — prefer composition when behavior is different.\n",
    "\n",
    "---\n",
    "\n",
    "## ✅ Summary\n",
    "\n",
    "| Concept              | Description                                           |\n",
    "|----------------------|-------------------------------------------------------|\n",
    "| Inheritance          | Access to parent's variables/methods                  |\n",
    "| `super()`            | Calls methods/constructor from the parent             |\n",
    "| Overriding           | Child replaces parent’s method with new logic         |\n",
    "| Use Cases            | Code reuse, structure, scalability                    |\n"
   ]
  },
  {
   "cell_type": "code",
   "execution_count": null,
   "id": "9341fa4e",
   "metadata": {},
   "outputs": [
    {
     "name": "stdout",
     "output_type": "stream",
     "text": [
      "Name: Rahul, email: Rahul@example.com, password: 12345\n"
     ]
    }
   ],
   "source": [
    "# single inheritance \n",
    "\n",
    "'''\n",
    "one child class -> one parent class\n",
    "'''\n",
    "\n",
    "# base parent class\n",
    "class User:\n",
    "    def __init__(self, name, email, password):\n",
    "        self.name = name\n",
    "        self.email = email\n",
    "        self.password = password\n",
    "\n",
    "    def show_details(self):\n",
    "        print(f\"Name: {self.name}, email: {self.email}, password: {self.password}\")\n",
    "\n",
    "    \n",
    "# child class inheriting from user\n",
    "class Customer(User):\n",
    "    def __init__(self, name, email, password, address, products, mobile):\n",
    "        # calling parent class constructor using super()\n",
    "        # this initailises the name and email attribues\n",
    "        super().__init__(name, email, password)\n",
    "\n",
    "        # now we add the new attribute for the child \n",
    "        self.address = address\n",
    "        self.products = products\n",
    "        self.mobile = mobile\n",
    "\n",
    "    def show_details(self):\n",
    "        super().show_details()\n",
    "\n",
    "\n",
    "# usage\n",
    "cust1 = Customer(\"Rahul\", \"Rahul@example.com\", \"12345\", \"Bangalore\", \"Groceries\", \"8981281928112\")\n",
    "\n",
    "cust1.show_details()\n",
    "\n"
   ]
  },
  {
   "cell_type": "code",
   "execution_count": 2,
   "id": "3278a944",
   "metadata": {},
   "outputs": [
    {
     "name": "stdout",
     "output_type": "stream",
     "text": [
      "Managing tasks...\n",
      "Working....\n",
      "Breathing....\n"
     ]
    }
   ],
   "source": [
    "# multilevel inheritance - a chain of classes\n",
    "\n",
    "'''\n",
    "child -> parent -> grand parents\n",
    "'''\n",
    "\n",
    "class Human:\n",
    "    def breath(self):\n",
    "        print(\"Breathing....\")\n",
    "\n",
    "class Employee(Human):\n",
    "    def work(self):\n",
    "        print(\"Working....\")\n",
    "\n",
    "class Manager(Employee):\n",
    "    def manageTasks(self):\n",
    "        print(\"Managing tasks...\")\n",
    "\n",
    "manager1 = Manager() \n",
    "\n",
    "manager1.manageTasks()\n",
    "manager1.work()\n",
    "manager1.breath()"
   ]
  },
  {
   "cell_type": "code",
   "execution_count": 4,
   "id": "75ab967e",
   "metadata": {},
   "outputs": [
    {
     "name": "stdout",
     "output_type": "stream",
     "text": [
      "user logged in\n",
      "user logged in\n",
      "buying many things...\n",
      "Managing the website, adding, removing products\n"
     ]
    }
   ],
   "source": [
    "# hierarchical inheritance (one parent many children)\n",
    "\n",
    "class User:\n",
    "    def login(self):\n",
    "        print(\"user logged in\")\n",
    "    \n",
    "class Customer(User):\n",
    "    def purchasing(self):\n",
    "        print(\"buying many things...\")\n",
    "\n",
    "class Admin(User):\n",
    "    def manageSite(self):\n",
    "        print(\"Managing the website, adding, removing products\")\n",
    "    \n",
    "cust = Customer()\n",
    "admin = Admin()\n",
    "\n",
    "# both object can use the login method from the user parent class\n",
    "cust.login()\n",
    "admin.login()\n",
    "\n",
    "cust.purchasing()\n",
    "admin.manageSite()"
   ]
  },
  {
   "cell_type": "code",
   "execution_count": 8,
   "id": "da08b7ab",
   "metadata": {},
   "outputs": [
    {
     "name": "stdout",
     "output_type": "stream",
     "text": [
      "Managing tasks..\n",
      "Writing python code\n",
      "Leading the technical\n"
     ]
    }
   ],
   "source": [
    "# multiple inheritance -> when a child class inherits from more than one parent class, combining their features\n",
    "\n",
    "class Manager:\n",
    "    def manage_tasks(self):\n",
    "        print(\"Managing tasks..\")\n",
    "\n",
    "class Developer:\n",
    "    def write_code(self):\n",
    "        print(\"Writing python code\")\n",
    "\n",
    "class TechLead(Manager, Developer):\n",
    "    def lead_team(self):\n",
    "        print(\"Leading the technical\")\n",
    "\n",
    "\n",
    "lead = TechLead()\n",
    "\n",
    "lead.manage_tasks()\n",
    "lead.write_code()\n",
    "lead.lead_team()"
   ]
  }
 ],
 "metadata": {
  "kernelspec": {
   "display_name": "Python 3",
   "language": "python",
   "name": "python3"
  },
  "language_info": {
   "codemirror_mode": {
    "name": "ipython",
    "version": 3
   },
   "file_extension": ".py",
   "mimetype": "text/x-python",
   "name": "python",
   "nbconvert_exporter": "python",
   "pygments_lexer": "ipython3",
   "version": "3.13.5"
  }
 },
 "nbformat": 4,
 "nbformat_minor": 5
}
