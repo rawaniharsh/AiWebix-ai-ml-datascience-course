{
 "cells": [
  {
   "cell_type": "markdown",
   "id": "cd56252e",
   "metadata": {},
   "source": [
    "# 🔢 Operator Overloading in Python\n",
    "\n",
    "---\n",
    "\n",
    "## 📌 What is Operator Overloading?\n",
    "\n",
    "Operator Overloading allows us to redefine how operators like `+`, `-`, `*`, `==` behave for **user-defined objects**.\n",
    "\n",
    "Python does this using special functions called **magic methods** (also known as dunder methods).\n",
    "\n",
    "Example:\n",
    "```python\n",
    "book1 + book2"
   ]
  },
  {
   "cell_type": "markdown",
   "id": "fb5ada66",
   "metadata": {},
   "source": [
    "### 🎯 Why Use Operator Overloading?\n",
    "Clean and readable code\n",
    "\n",
    "Objects behave like built-in types\n",
    "\n",
    "Useful in real-world domains: banking, education, e-commerce, etc.\n",
    "\n",
    "Examples:\n",
    "\n",
    "🏦 acc1 + acc2 → total balance\n",
    "\n",
    "📚 book1 + book2 → total pages\n",
    "\n",
    "🎓 s1 > s2 → rank comparison\n",
    "\n",
    "🛒 product * quantity → bill calculation"
   ]
  },
  {
   "cell_type": "markdown",
   "id": "3aea5505",
   "metadata": {},
   "source": [
    "### ⚙️ Common Magic Methods\n",
    "\n",
    "| Operator | Method      | Description                 |\n",
    "|----------|-------------|-----------------------------|\n",
    "| `+`      | `__add__()` | Add two objects             |\n",
    "| `-`      | `__sub__()` | Subtract objects            |\n",
    "| `*`      | `__mul__()` | Multiply objects            |\n",
    "| `==`     | `__eq__()`  | Check equality              |\n",
    "| `<`      | `__lt__()`  | Less than                   |\n",
    "| `>`      | `__gt__()`  | Greater than                |\n",
    "| `str()`  | `__str__()` | Return string representation |"
   ]
  },
  {
   "cell_type": "markdown",
   "id": "f43bdfbc",
   "metadata": {},
   "source": [
    "### 📦 Example: Adding Two Boxes (Real World + Simple)\n",
    "Imagine you have two boxes object from box class, and each box has some weight. Now you want to add two box objects together using + operator to find total weight.\n",
    "\n",
    "By default, Python won’t allow box1 + box2 unless you overload the + operator.\n",
    "\n",
    "When you write:\n",
    "\n",
    "`box1 + box2`\n",
    "\n",
    "Python tries to find a way to add two objects of class Box. But…\n",
    "\n",
    "➡️ By default, Python doesn't know what it means to add two Box objects.\n",
    "➡️ Python knows how to add:\n",
    "\n",
    "int + int\n",
    "\n",
    "str + str\n",
    "\n",
    "list + list\n",
    "\n",
    "Because for these built-in types, Python already has definitions for + using internal methods like int.__add__() or str.__add__().\n",
    "\n",
    "But for custom classes (like your Box), unless you explicitly define how to handle + using:"
   ]
  },
  {
   "cell_type": "markdown",
   "id": "7bbc805c",
   "metadata": {},
   "source": [
    " So Why Define __add__()?\n",
    "You define this special function to teach Python what + should do in the context of your object.\n",
    "\n",
    "Example:\n",
    "\n",
    "`\n",
    "def __add__(self, other):\n",
    "    return self.weight + other.weight `\n",
    "    \n",
    "Now Python knows:\n",
    "\n",
    "“Okay! When I see box1 + box2, I’ll add their weights.”"
   ]
  },
  {
   "cell_type": "code",
   "execution_count": null,
   "id": "cf7dc2e4",
   "metadata": {},
   "outputs": [],
   "source": [
    "class Box:\n",
    "    def __init__(self, weight):\n",
    "        self.weight = weight  # Weight in kilograms\n",
    "\n",
    "    def __add__(self, other):\n",
    "        # When we do box1 + box2, this function will run\n",
    "        return self.weight + other.weight\n",
    "\n",
    "    def __str__(self):\n",
    "        return f\"📦 Box with {self.weight} kg\"\n",
    "        \n",
    "\n",
    "box1 = Box(10)\n",
    "box2 = Box(5)\n",
    "\n",
    "print(box1)  # 📦 Box with 10 kg\n",
    "print(box2)  # 📦 Box with 5 kg\n",
    "\n",
    "# Adding two boxes using + operator (internally calls box1.__add__(box2))\n",
    "total_weight = box1 + box2\n",
    "print(\"Total Weight of Both Boxes:\", total_weight, \"kg\")"
   ]
  }
 ],
 "metadata": {
  "language_info": {
   "name": "python"
  }
 },
 "nbformat": 4,
 "nbformat_minor": 5
}
