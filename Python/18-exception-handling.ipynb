{
 "cells": [
  {
   "cell_type": "markdown",
   "id": "33519e52",
   "metadata": {},
   "source": [
    "# 🧯 Lesson: Error Handling in Python\n",
    "\n",
    "## 🎯 Objective:\n",
    "Learn how to handle errors and exceptions in Python so that your code doesn’t crash and handles problems gracefully.\n",
    "\n",
    "---\n",
    "\n",
    "## 📌 Topics to Cover:\n",
    "1. What is an Error?\n",
    "2. Types of Errors (Syntax vs Runtime)\n",
    "3. What is Exception Handling?\n",
    "4. The try-except Block\n",
    "5. Catching Specific Exceptions\n",
    "6. Finally Block\n",
    "7. Else Clause\n",
    "8. Raising Exceptions\n",
    "9. Custom Exceptions\n",
    "10. Best Practices for Error Handling\n",
    "11. Real-World Use Cases\n",
    "\n",
    "---\n",
    "\n",
    "## 🔸 What is an Error?\n",
    "An error is a problem in a program that can cause it to stop executing.\n",
    "\n",
    "---\n",
    "\n",
    "## 🔸 Types of Errors:\n",
    "- **Syntax Error:** Mistake in code structure (e.g., missing colon)\n",
    "- **Runtime Error:** Occurs during execution (e.g., division by zero)\n",
    "\n",
    "---\n",
    "\n",
    "## 🔸 What is Exception Handling?\n",
    "A way to catch and manage errors in code without crashing the program.\n",
    "\n",
    "---\n",
    "\n",
    "## 🔸 try-except Block:\n",
    "```python\n",
    "try:\n",
    "    risky_code()\n",
    "except ExceptionType:\n",
    "    handle_the_error()"
   ]
  },
  {
   "cell_type": "markdown",
   "id": "445d9b2b",
   "metadata": {},
   "source": [
    "### 🔸 Catching Specific Exceptions:"
   ]
  },
  {
   "cell_type": "code",
   "execution_count": null,
   "id": "ad34dc39",
   "metadata": {},
   "outputs": [],
   "source": [
    "try:\n",
    "    result = 10 / 0\n",
    "except ZeroDivisionError:\n",
    "    print(\"Cannot divide by zero!\")"
   ]
  },
  {
   "cell_type": "markdown",
   "id": "f85d4c82",
   "metadata": {},
   "source": [
    "### 🔸 finally Block:"
   ]
  },
  {
   "cell_type": "code",
   "execution_count": null,
   "id": "400092d0",
   "metadata": {},
   "outputs": [],
   "source": [
    "# Used to execute code regardless of whether there was an exception or not.\n",
    "try:\n",
    "    open_file()\n",
    "except FileNotFoundError:\n",
    "    print(\"File not found.\")\n",
    "finally:\n",
    "    print(\"Execution finished.\")"
   ]
  },
  {
   "cell_type": "markdown",
   "id": "3e0301a8",
   "metadata": {},
   "source": [
    "### 🔸 else Block:\n",
    "\n",
    "Executes only if the try block succeeds without any exceptions."
   ]
  },
  {
   "cell_type": "code",
   "execution_count": null,
   "id": "1833d805",
   "metadata": {},
   "outputs": [],
   "source": [
    "try:\n",
    "    result = 5 + 5\n",
    "except:\n",
    "    print(\"Error occurred\")\n",
    "else:\n",
    "    print(\"Success! Result:\", result)"
   ]
  },
  {
   "cell_type": "markdown",
   "id": "101033a3",
   "metadata": {},
   "source": [
    "### 🔸 Raising Exceptions:\n",
    "\n",
    "You can raise exceptions manually using raise."
   ]
  },
  {
   "cell_type": "code",
   "execution_count": null,
   "id": "f00eca43",
   "metadata": {},
   "outputs": [],
   "source": [
    "if age < 18:\n",
    "    raise ValueError(\"Age must be at least 18\")"
   ]
  },
  {
   "cell_type": "markdown",
   "id": "8833c03d",
   "metadata": {},
   "source": [
    "### 🔸 Custom Exceptions:\n",
    "\n",
    "Create your own exception classes."
   ]
  },
  {
   "cell_type": "code",
   "execution_count": null,
   "id": "94276309",
   "metadata": {},
   "outputs": [],
   "source": [
    "class MyCustomError(Exception):\n",
    "    pass\n",
    "\n",
    "raise MyCustomError(\"Something went wrong!\")"
   ]
  },
  {
   "cell_type": "markdown",
   "id": "7905203e",
   "metadata": {},
   "source": [
    "### 🌍 Real World Examples:\n",
    "\n",
    "File operations (missing files)\n",
    "\n",
    "Network requests (timeout, failed response)\n",
    "\n",
    "User input (invalid value)\n",
    "\n",
    "Payment gateway (invalid card, insufficient balance)\n",
    "\n",
    "### ✅ Best Practices:\n",
    "\n",
    "Be specific with exception types\n",
    "\n",
    "Don’t use a bare except: unless necessary\n",
    "\n",
    "Always clean up resources (close files, DB connections)\n",
    "\n",
    "Add meaningful error messages"
   ]
  }
 ],
 "metadata": {
  "language_info": {
   "name": "python"
  }
 },
 "nbformat": 4,
 "nbformat_minor": 5
}
